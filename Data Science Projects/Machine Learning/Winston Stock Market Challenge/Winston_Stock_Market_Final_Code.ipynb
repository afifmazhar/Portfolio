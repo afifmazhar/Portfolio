{
 "cells": [
  {
   "cell_type": "markdown",
   "metadata": {},
   "source": [
    "# Here we are importing the packages that are going to be needed for the following project"
   ]
  },
  {
   "cell_type": "code",
   "execution_count": 1,
   "metadata": {},
   "outputs": [],
   "source": [
    "import turicreate as tc\n",
    "import pandas as pd\n",
    "import numpy as np\n",
    "import matplotlib.pyplot as plt\n",
    "from turicreate import SFrame"
   ]
  },
  {
   "cell_type": "markdown",
   "metadata": {},
   "source": [
    "# We are going to use Pandas to replace the NaN values with the mean\n",
    "# Then we are going to export as a CSV file then import with Turicreate"
   ]
  },
  {
   "cell_type": "code",
   "execution_count": 2,
   "metadata": {},
   "outputs": [],
   "source": [
    "## we used pandas to open the csv \n",
    "\n",
    "train_df = pd.read_csv('train.csv')\n",
    "test_df = pd.read_csv('test_2.csv')\n"
   ]
  },
  {
   "cell_type": "code",
   "execution_count": 3,
   "metadata": {},
   "outputs": [],
   "source": [
    "train_df = train_df.fillna(train_df.mean())\n",
    "train_df.to_csv('train_df.csv')\n",
    "test_df = test_df.fillna(test_df.mean())\n",
    "test_df.to_csv('test_2df.csv')"
   ]
  },
  {
   "cell_type": "code",
   "execution_count": 4,
   "metadata": {},
   "outputs": [
    {
     "data": {
      "text/html": [
       "<pre>Finished parsing file /home/namin/Winston Stock Market/train_df.csv</pre>"
      ],
      "text/plain": [
       "Finished parsing file /home/namin/Winston Stock Market/train_df.csv"
      ]
     },
     "metadata": {},
     "output_type": "display_data"
    },
    {
     "data": {
      "text/html": [
       "<pre>Parsing completed. Parsed 100 lines in 0.377865 secs.</pre>"
      ],
      "text/plain": [
       "Parsing completed. Parsed 100 lines in 0.377865 secs."
      ]
     },
     "metadata": {},
     "output_type": "display_data"
    },
    {
     "name": "stdout",
     "output_type": "stream",
     "text": [
      "------------------------------------------------------\n",
      "Inferred types from first 100 line(s) of file as \n",
      "column_type_hints=[int,int,float,float,float,float,float,float,int,float,float,float,float,float,float,float,float,float,float,float,float,float,float,float,float,float,float,float,float,float,float,float,float,float,float,float,float,float,float,float,float,float,float,float,float,float,float,float,float,float,float,float,float,float,float,float,float,float,float,float,float,float,float,float,float,float,float,float,float,float,float,float,float,float,float,float,float,float,float,float,float,float,float,float,float,float,float,float,float,float,float,float,float,float,float,float,float,float,float,float,float,float,float,float,float,float,float,float,float,float,float,float,float,float,float,float,float,float,float,float,float,float,float,float,float,float,float,float,float,float,float,float,float,float,float,float,float,float,float,float,float,float,float,float,float,float,float,float,float,float,float,float,float,float,float,float,float,float,float,float,float,float,float,float,float,float,float,float,float,float,float,float,float,float,float,float,float,float,float,float,float,float,float,float,float,float,float,float,float,float,float,float,float,float,float,float,float,float,float,float,float,float,float,float,float,float,float,float,float,float,float,float]\n",
      "If parsing fails due to incorrect types, you can correct\n",
      "the inferred type list above and pass it to read_csv in\n",
      "the column_type_hints argument\n",
      "------------------------------------------------------\n"
     ]
    },
    {
     "data": {
      "text/html": [
       "<pre>Read 11545 lines. Lines per second: 16304.9</pre>"
      ],
      "text/plain": [
       "Read 11545 lines. Lines per second: 16304.9"
      ]
     },
     "metadata": {},
     "output_type": "display_data"
    },
    {
     "data": {
      "text/html": [
       "<pre>Finished parsing file /home/namin/Winston Stock Market/train_df.csv</pre>"
      ],
      "text/plain": [
       "Finished parsing file /home/namin/Winston Stock Market/train_df.csv"
      ]
     },
     "metadata": {},
     "output_type": "display_data"
    },
    {
     "data": {
      "text/html": [
       "<pre>Parsing completed. Parsed 40000 lines in 1.18503 secs.</pre>"
      ],
      "text/plain": [
       "Parsing completed. Parsed 40000 lines in 1.18503 secs."
      ]
     },
     "metadata": {},
     "output_type": "display_data"
    },
    {
     "data": {
      "text/html": [
       "<pre>Finished parsing file /home/namin/Winston Stock Market/test_2df.csv</pre>"
      ],
      "text/plain": [
       "Finished parsing file /home/namin/Winston Stock Market/test_2df.csv"
      ]
     },
     "metadata": {},
     "output_type": "display_data"
    },
    {
     "data": {
      "text/html": [
       "<pre>Parsing completed. Parsed 100 lines in 0.305104 secs.</pre>"
      ],
      "text/plain": [
       "Parsing completed. Parsed 100 lines in 0.305104 secs."
      ]
     },
     "metadata": {},
     "output_type": "display_data"
    },
    {
     "name": "stdout",
     "output_type": "stream",
     "text": [
      "------------------------------------------------------\n",
      "Inferred types from first 100 line(s) of file as \n",
      "column_type_hints=[int,int,float,float,float,float,float,float,int,float,float,float,float,float,float,float,float,float,float,float,float,float,float,float,float,float,float,float,float,float,float,float,float,float,float,float,float,float,float,float,float,float,float,float,float,float,float,float,float,float,float,float,float,float,float,float,float,float,float,float,float,float,float,float,float,float,float,float,float,float,float,float,float,float,float,float,float,float,float,float,float,float,float,float,float,float,float,float,float,float,float,float,float,float,float,float,float,float,float,float,float,float,float,float,float,float,float,float,float,float,float,float,float,float,float,float,float,float,float,float,float,float,float,float,float,float,float,float,float,float,float,float,float,float,float,float,float,float,float,float,float,float,float,float,float,float,float,float]\n",
      "If parsing fails due to incorrect types, you can correct\n",
      "the inferred type list above and pass it to read_csv in\n",
      "the column_type_hints argument\n",
      "------------------------------------------------------\n"
     ]
    },
    {
     "data": {
      "text/html": [
       "<pre>Finished parsing file /home/namin/Winston Stock Market/test_2df.csv</pre>"
      ],
      "text/plain": [
       "Finished parsing file /home/namin/Winston Stock Market/test_2df.csv"
      ]
     },
     "metadata": {},
     "output_type": "display_data"
    },
    {
     "data": {
      "text/html": [
       "<pre>Parsing completed. Parsed 120000 lines in 2.20708 secs.</pre>"
      ],
      "text/plain": [
       "Parsing completed. Parsed 120000 lines in 2.20708 secs."
      ]
     },
     "metadata": {},
     "output_type": "display_data"
    }
   ],
   "source": [
    "train = tc.SFrame('train_df.csv')\n",
    "test = tc.SFrame('test_2df.csv')"
   ]
  },
  {
   "cell_type": "markdown",
   "metadata": {},
   "source": [
    "# We are going to split our train_df.csv into a train model and test model into 70 and 30"
   ]
  },
  {
   "cell_type": "code",
   "execution_count": 5,
   "metadata": {},
   "outputs": [],
   "source": [
    "train_splitted, test_splitted = train.random_split(0.7, seed = 0)"
   ]
  },
  {
   "cell_type": "markdown",
   "metadata": {},
   "source": [
    "# For our first regression model we are going to create a dictionary that we can pass through to predict the values"
   ]
  },
  {
   "cell_type": "code",
   "execution_count": 6,
   "metadata": {},
   "outputs": [],
   "source": [
    "my_features = [ 'Feature_2','Feature_3', 'Feature_4', 'Feature_5', 'Feature_6', 'Feature_7' , 'Feature_8', 'Feature_9',\n",
    "               'Feature_10','Feature_11','Feature_12','Feature_13','Feature_14','Feature_15','Feature_16','Feature_17','Feature_18',\n",
    "               'Feature_19','Feature_20','Feature_21','Feature_22','Feature_23','Feature_24','Feature_25',\n",
    "               'Ret_2' ,  'Ret_3','Ret_4','Ret_5' ,'Ret_6','Ret_7' , 'Ret_8','Ret_9','Ret_10','Ret_11','Ret_12',    \n",
    "               'Ret_13','Ret_14','Ret_15','Ret_16','Ret_17', 'Ret_18','Ret_19','Ret_20','Ret_21','Ret_22',    \n",
    "               'Ret_23','Ret_24','Ret_25','Ret_26','Ret_27','Ret_28','Ret_29','Ret_30','Ret_31','Ret_32',   \n",
    "               'Ret_33','Ret_34','Ret_35','Ret_36','Ret_37','Ret_38','Ret_39','Ret_40','Ret_41','Ret_42',    \n",
    "               'Ret_43','Ret_44','Ret_45','Ret_46','Ret_47','Ret_48','Ret_49','Ret_50','Ret_51','Ret_52',   \n",
    "               'Ret_53','Ret_54','Ret_55','Ret_56','Ret_57','Ret_58','Ret_59','Ret_60','Ret_61','Ret_62',   \n",
    "               'Ret_63','Ret_64','Ret_65','Ret_66','Ret_67','Ret_68','Ret_69','Ret_70','Ret_71','Ret_72' ,   \n",
    "               'Ret_73','Ret_74','Ret_75','Ret_76','Ret_77','Ret_78','Ret_79','Ret_80','Ret_81','Ret_82',    \n",
    "               'Ret_83','Ret_84','Ret_85','Ret_86','Ret_87','Ret_88','Ret_89','Ret_90','Ret_91','Ret_92',   \n",
    "               'Ret_93','Ret_94','Ret_95','Ret_96','Ret_97','Ret_98','Ret_99','Ret_100','Ret_101' ,'Ret_102',   \n",
    "               'Ret_103','Ret_104','Ret_105','Ret_106','Ret_107','Ret_108','Ret_109','Ret_110','Ret_111',   \n",
    "               'Ret_112','Ret_113','Ret_114','Ret_115','Ret_116','Ret_117','Ret_118','Ret_119','Ret_120' ]\n"
   ]
  },
  {
   "cell_type": "code",
   "execution_count": 7,
   "metadata": {},
   "outputs": [
    {
     "data": {
      "text/html": [
       "<pre>Automatically generating validation set from 5% of the data.</pre>"
      ],
      "text/plain": [
       "Automatically generating validation set from 5% of the data."
      ]
     },
     "metadata": {},
     "output_type": "display_data"
    },
    {
     "data": {
      "text/html": [
       "<pre>Linear regression:</pre>"
      ],
      "text/plain": [
       "Linear regression:"
      ]
     },
     "metadata": {},
     "output_type": "display_data"
    },
    {
     "data": {
      "text/html": [
       "<pre>--------------------------------------------------------</pre>"
      ],
      "text/plain": [
       "--------------------------------------------------------"
      ]
     },
     "metadata": {},
     "output_type": "display_data"
    },
    {
     "data": {
      "text/html": [
       "<pre>Number of examples          : 26599</pre>"
      ],
      "text/plain": [
       "Number of examples          : 26599"
      ]
     },
     "metadata": {},
     "output_type": "display_data"
    },
    {
     "data": {
      "text/html": [
       "<pre>Number of features          : 143</pre>"
      ],
      "text/plain": [
       "Number of features          : 143"
      ]
     },
     "metadata": {},
     "output_type": "display_data"
    },
    {
     "data": {
      "text/html": [
       "<pre>Number of unpacked features : 143</pre>"
      ],
      "text/plain": [
       "Number of unpacked features : 143"
      ]
     },
     "metadata": {},
     "output_type": "display_data"
    },
    {
     "data": {
      "text/html": [
       "<pre>Number of coefficients    : 144</pre>"
      ],
      "text/plain": [
       "Number of coefficients    : 144"
      ]
     },
     "metadata": {},
     "output_type": "display_data"
    },
    {
     "data": {
      "text/html": [
       "<pre>Starting Newton Method</pre>"
      ],
      "text/plain": [
       "Starting Newton Method"
      ]
     },
     "metadata": {},
     "output_type": "display_data"
    },
    {
     "data": {
      "text/html": [
       "<pre>--------------------------------------------------------</pre>"
      ],
      "text/plain": [
       "--------------------------------------------------------"
      ]
     },
     "metadata": {},
     "output_type": "display_data"
    },
    {
     "data": {
      "text/html": [
       "<pre>+-----------+----------+--------------+--------------------+----------------------+---------------------------------+-----------------------------------+</pre>"
      ],
      "text/plain": [
       "+-----------+----------+--------------+--------------------+----------------------+---------------------------------+-----------------------------------+"
      ]
     },
     "metadata": {},
     "output_type": "display_data"
    },
    {
     "data": {
      "text/html": [
       "<pre>| Iteration | Passes   | Elapsed Time | Training Max Error | Validation Max Error | Training Root-Mean-Square Error | Validation Root-Mean-Square Error |</pre>"
      ],
      "text/plain": [
       "| Iteration | Passes   | Elapsed Time | Training Max Error | Validation Max Error | Training Root-Mean-Square Error | Validation Root-Mean-Square Error |"
      ]
     },
     "metadata": {},
     "output_type": "display_data"
    },
    {
     "data": {
      "text/html": [
       "<pre>+-----------+----------+--------------+--------------------+----------------------+---------------------------------+-----------------------------------+</pre>"
      ],
      "text/plain": [
       "+-----------+----------+--------------+--------------------+----------------------+---------------------------------+-----------------------------------+"
      ]
     },
     "metadata": {},
     "output_type": "display_data"
    },
    {
     "data": {
      "text/html": [
       "<pre>| 1         | 2        | 1.174027     | 0.013841           | 0.064896             | 0.000975                        | 0.001995                          |</pre>"
      ],
      "text/plain": [
       "| 1         | 2        | 1.174027     | 0.013841           | 0.064896             | 0.000975                        | 0.001995                          |"
      ]
     },
     "metadata": {},
     "output_type": "display_data"
    },
    {
     "data": {
      "text/html": [
       "<pre>+-----------+----------+--------------+--------------------+----------------------+---------------------------------+-----------------------------------+</pre>"
      ],
      "text/plain": [
       "+-----------+----------+--------------+--------------------+----------------------+---------------------------------+-----------------------------------+"
      ]
     },
     "metadata": {},
     "output_type": "display_data"
    },
    {
     "data": {
      "text/html": [
       "<pre>SUCCESS: Optimal solution found.</pre>"
      ],
      "text/plain": [
       "SUCCESS: Optimal solution found."
      ]
     },
     "metadata": {},
     "output_type": "display_data"
    },
    {
     "data": {
      "text/html": [
       "<pre></pre>"
      ],
      "text/plain": []
     },
     "metadata": {},
     "output_type": "display_data"
    },
    {
     "data": {
      "text/html": [
       "<pre>Boosted trees regression:</pre>"
      ],
      "text/plain": [
       "Boosted trees regression:"
      ]
     },
     "metadata": {},
     "output_type": "display_data"
    },
    {
     "data": {
      "text/html": [
       "<pre>--------------------------------------------------------</pre>"
      ],
      "text/plain": [
       "--------------------------------------------------------"
      ]
     },
     "metadata": {},
     "output_type": "display_data"
    },
    {
     "data": {
      "text/html": [
       "<pre>Number of examples          : 26599</pre>"
      ],
      "text/plain": [
       "Number of examples          : 26599"
      ]
     },
     "metadata": {},
     "output_type": "display_data"
    },
    {
     "data": {
      "text/html": [
       "<pre>Number of features          : 143</pre>"
      ],
      "text/plain": [
       "Number of features          : 143"
      ]
     },
     "metadata": {},
     "output_type": "display_data"
    },
    {
     "data": {
      "text/html": [
       "<pre>Number of unpacked features : 143</pre>"
      ],
      "text/plain": [
       "Number of unpacked features : 143"
      ]
     },
     "metadata": {},
     "output_type": "display_data"
    },
    {
     "data": {
      "text/html": [
       "<pre>+-----------+--------------+--------------------+----------------------+---------------------------------+-----------------------------------+</pre>"
      ],
      "text/plain": [
       "+-----------+--------------+--------------------+----------------------+---------------------------------+-----------------------------------+"
      ]
     },
     "metadata": {},
     "output_type": "display_data"
    },
    {
     "data": {
      "text/html": [
       "<pre>| Iteration | Elapsed Time | Training Max Error | Validation Max Error | Training Root-Mean-Square Error | Validation Root-Mean-Square Error |</pre>"
      ],
      "text/plain": [
       "| Iteration | Elapsed Time | Training Max Error | Validation Max Error | Training Root-Mean-Square Error | Validation Root-Mean-Square Error |"
      ]
     },
     "metadata": {},
     "output_type": "display_data"
    },
    {
     "data": {
      "text/html": [
       "<pre>+-----------+--------------+--------------------+----------------------+---------------------------------+-----------------------------------+</pre>"
      ],
      "text/plain": [
       "+-----------+--------------+--------------------+----------------------+---------------------------------+-----------------------------------+"
      ]
     },
     "metadata": {},
     "output_type": "display_data"
    },
    {
     "data": {
      "text/html": [
       "<pre>| 1         | 0.028588     | 0.365057           | 0.362968             | 0.350027                        | 0.350014                          |</pre>"
      ],
      "text/plain": [
       "| 1         | 0.028588     | 0.365057           | 0.362968             | 0.350027                        | 0.350014                          |"
      ]
     },
     "metadata": {},
     "output_type": "display_data"
    },
    {
     "data": {
      "text/html": [
       "<pre>| 2         | 0.051136     | 0.260053           | 0.257964             | 0.245024                        | 0.245012                          |</pre>"
      ],
      "text/plain": [
       "| 2         | 0.051136     | 0.260053           | 0.257964             | 0.245024                        | 0.245012                          |"
      ]
     },
     "metadata": {},
     "output_type": "display_data"
    },
    {
     "data": {
      "text/html": [
       "<pre>| 3         | 0.072034     | 0.186549           | 0.184460             | 0.171521                        | 0.171511                          |</pre>"
      ],
      "text/plain": [
       "| 3         | 0.072034     | 0.186549           | 0.184460             | 0.171521                        | 0.171511                          |"
      ]
     },
     "metadata": {},
     "output_type": "display_data"
    },
    {
     "data": {
      "text/html": [
       "<pre>| 4         | 0.091583     | 0.135096           | 0.133007             | 0.120069                        | 0.120061                          |</pre>"
      ],
      "text/plain": [
       "| 4         | 0.091583     | 0.135096           | 0.133007             | 0.120069                        | 0.120061                          |"
      ]
     },
     "metadata": {},
     "output_type": "display_data"
    },
    {
     "data": {
      "text/html": [
       "<pre>| 5         | 0.114241     | 0.099078           | 0.096989             | 0.084053                        | 0.084049                          |</pre>"
      ],
      "text/plain": [
       "| 5         | 0.114241     | 0.099078           | 0.096989             | 0.084053                        | 0.084049                          |"
      ]
     },
     "metadata": {},
     "output_type": "display_data"
    },
    {
     "data": {
      "text/html": [
       "<pre>| 10        | 0.268410     | 0.028744           | 0.037057             | 0.014164                        | 0.014214                          |</pre>"
      ],
      "text/plain": [
       "| 10        | 0.268410     | 0.028744           | 0.037057             | 0.014164                        | 0.014214                          |"
      ]
     },
     "metadata": {},
     "output_type": "display_data"
    },
    {
     "data": {
      "text/html": [
       "<pre>+-----------+--------------+--------------------+----------------------+---------------------------------+-----------------------------------+</pre>"
      ],
      "text/plain": [
       "+-----------+--------------+--------------------+----------------------+---------------------------------+-----------------------------------+"
      ]
     },
     "metadata": {},
     "output_type": "display_data"
    }
   ],
   "source": [
    "## We used a regular regression function to see which regression model will be best fit for our data\n",
    "##It would seem that the linear and boosted tree model are the best fit\n",
    "bestfit_model = tc.regression.create(train_splitted, target = 'Ret_121',\n",
    "                                                    features = my_features)"
   ]
  },
  {
   "cell_type": "markdown",
   "metadata": {},
   "source": [
    "# Here we are going to evaluate the linear regression model"
   ]
  },
  {
   "cell_type": "code",
   "execution_count": 8,
   "metadata": {},
   "outputs": [
    {
     "name": "stdout",
     "output_type": "stream",
     "text": [
      "PROGRESS: Creating a validation set from 5 percent of training data. This may take a while.\n",
      "          You can set ``validation_set=None`` to disable validation tracking.\n",
      "\n"
     ]
    },
    {
     "data": {
      "text/html": [
       "<pre>Linear regression:</pre>"
      ],
      "text/plain": [
       "Linear regression:"
      ]
     },
     "metadata": {},
     "output_type": "display_data"
    },
    {
     "data": {
      "text/html": [
       "<pre>--------------------------------------------------------</pre>"
      ],
      "text/plain": [
       "--------------------------------------------------------"
      ]
     },
     "metadata": {},
     "output_type": "display_data"
    },
    {
     "data": {
      "text/html": [
       "<pre>Number of examples          : 26644</pre>"
      ],
      "text/plain": [
       "Number of examples          : 26644"
      ]
     },
     "metadata": {},
     "output_type": "display_data"
    },
    {
     "data": {
      "text/html": [
       "<pre>Number of features          : 143</pre>"
      ],
      "text/plain": [
       "Number of features          : 143"
      ]
     },
     "metadata": {},
     "output_type": "display_data"
    },
    {
     "data": {
      "text/html": [
       "<pre>Number of unpacked features : 143</pre>"
      ],
      "text/plain": [
       "Number of unpacked features : 143"
      ]
     },
     "metadata": {},
     "output_type": "display_data"
    },
    {
     "data": {
      "text/html": [
       "<pre>Number of coefficients    : 144</pre>"
      ],
      "text/plain": [
       "Number of coefficients    : 144"
      ]
     },
     "metadata": {},
     "output_type": "display_data"
    },
    {
     "data": {
      "text/html": [
       "<pre>Starting Newton Method</pre>"
      ],
      "text/plain": [
       "Starting Newton Method"
      ]
     },
     "metadata": {},
     "output_type": "display_data"
    },
    {
     "data": {
      "text/html": [
       "<pre>--------------------------------------------------------</pre>"
      ],
      "text/plain": [
       "--------------------------------------------------------"
      ]
     },
     "metadata": {},
     "output_type": "display_data"
    },
    {
     "data": {
      "text/html": [
       "<pre>+-----------+----------+--------------+--------------------+----------------------+---------------------------------+-----------------------------------+</pre>"
      ],
      "text/plain": [
       "+-----------+----------+--------------+--------------------+----------------------+---------------------------------+-----------------------------------+"
      ]
     },
     "metadata": {},
     "output_type": "display_data"
    },
    {
     "data": {
      "text/html": [
       "<pre>| Iteration | Passes   | Elapsed Time | Training Max Error | Validation Max Error | Training Root-Mean-Square Error | Validation Root-Mean-Square Error |</pre>"
      ],
      "text/plain": [
       "| Iteration | Passes   | Elapsed Time | Training Max Error | Validation Max Error | Training Root-Mean-Square Error | Validation Root-Mean-Square Error |"
      ]
     },
     "metadata": {},
     "output_type": "display_data"
    },
    {
     "data": {
      "text/html": [
       "<pre>+-----------+----------+--------------+--------------------+----------------------+---------------------------------+-----------------------------------+</pre>"
      ],
      "text/plain": [
       "+-----------+----------+--------------+--------------------+----------------------+---------------------------------+-----------------------------------+"
      ]
     },
     "metadata": {},
     "output_type": "display_data"
    },
    {
     "data": {
      "text/html": [
       "<pre>| 1         | 2        | 0.139941     | 0.011456           | 0.015115             | 0.000985                        | 0.001122                          |</pre>"
      ],
      "text/plain": [
       "| 1         | 2        | 0.139941     | 0.011456           | 0.015115             | 0.000985                        | 0.001122                          |"
      ]
     },
     "metadata": {},
     "output_type": "display_data"
    },
    {
     "data": {
      "text/html": [
       "<pre>+-----------+----------+--------------+--------------------+----------------------+---------------------------------+-----------------------------------+</pre>"
      ],
      "text/plain": [
       "+-----------+----------+--------------+--------------------+----------------------+---------------------------------+-----------------------------------+"
      ]
     },
     "metadata": {},
     "output_type": "display_data"
    },
    {
     "data": {
      "text/html": [
       "<pre>SUCCESS: Optimal solution found.</pre>"
      ],
      "text/plain": [
       "SUCCESS: Optimal solution found."
      ]
     },
     "metadata": {},
     "output_type": "display_data"
    },
    {
     "data": {
      "text/html": [
       "<pre></pre>"
      ],
      "text/plain": []
     },
     "metadata": {},
     "output_type": "display_data"
    }
   ],
   "source": [
    "train_model_lr = tc.linear_regression.create(train_splitted, target = 'Ret_121',\n",
    "                                                    features = my_features)"
   ]
  },
  {
   "cell_type": "code",
   "execution_count": 9,
   "metadata": {},
   "outputs": [
    {
     "name": "stdout",
     "output_type": "stream",
     "text": [
      "{'max_error': 0.017016736962887608, 'rmse': 0.0010693758180243516}\n"
     ]
    }
   ],
   "source": [
    "##This will allow us to see the max error and the rmse\n",
    "print(train_model_lr.evaluate(test_splitted))"
   ]
  },
  {
   "cell_type": "code",
   "execution_count": 10,
   "metadata": {},
   "outputs": [
    {
     "name": "stdout",
     "output_type": "stream",
     "text": [
      "[0.00018535363825745418, -0.0002872537895262763, -0.00017666010694582677, 0.0001375293535422097, -0.00010965394370323524, -0.0004402480515876946, 0.00018002780379143513, -0.0002097428479073472, -0.00020030073651407677, 0.00015474582358577767, -0.0001887472287993131, -4.5982954924490604e-05, -0.00011310336965477595, 6.500053940522956e-06, -0.00029799684499097354, -0.0003596963081970202, 0.00031022209732735454, -0.0002146035670002001, -0.00018234473431515816, 0.00013467989412370914, 0.00016662716160191152, -0.00010495941633677377, -0.0008698909244496192, -0.00018433724112333792, -0.00036602988588375354, -0.0001118984106739601, 0.0005142611766139187, -7.007289587272314e-05, 0.00025900928109503835, -3.6417149815446196e-07, 0.0004753836812997728, -0.0008393060007568873, 0.0004110678836074425, -0.00031825065770924694, -4.851506387977321e-05, -8.72696811948443e-05, 0.00036647699420485063, -0.0016606915673181932, 7.109215044978732e-05, 0.00010742799247863942, -0.00015662732930701035, -0.00011712617656094124, -0.0003654809954692907, -7.188603557335738e-05, 0.00019947174764611543, -6.239714862525558e-06, 0.00013432773529709657, 0.00025820570978163864, 1.0287542633902443e-05, 8.946099473021568e-05, 5.468968819809873e-05, -0.00018626277964370672, -4.980317044044497e-05, -2.7817354762183627e-05, 2.6780184430138077e-05, -0.0005529356875605626, 0.00029221753795641623, -8.034763342897741e-05, -0.0007614898685240276, 0.0001209806112442232, -0.00012430303676100175, -6.178281701904207e-05, -0.00017438148829783168, -0.0007404624113406066, 0.00021924104011488663, -2.0417213341881844e-06, -6.348271105596727e-05, -3.9980824285146494e-05, 0.00020674535828710096, 0.0001077012721782704, -4.877678262891981e-05, -0.00030381720318426765, -0.0001944353325060763, 1.4952167200112183e-05, -6.292435378578098e-05, -1.6846204423750382e-05, -0.0001957244887895419, 0.00015455005573315782, -6.800821469460437e-06, -6.389731620454081e-05, -0.0006625315530317331, -0.0005369930751886202, 0.00016041809484768462, -0.00013462552219919573, -6.706593069099025e-06, -0.00041972701207515967, 0.0003148396321961646, -3.4300221594148244e-05, -0.0004156238135877543, -0.0007398268322592153, -7.251395409590351e-05, -0.00010676342348805056, 0.00012095438980457777, -5.446875456126938e-05, -0.00010385830961118286, 0.0007653967223421816, 0.00025396916430559164, 1.3354217835570303e-05, -0.00034009923127763567, 3.991325786596047e-06, ... ]\n"
     ]
    }
   ],
   "source": [
    "##This will predict the Ret 121 value using our regression tool\n",
    "train_predict_lr = train_model_lr.predict(test)\n",
    "print(train_predict_lr)"
   ]
  },
  {
   "cell_type": "code",
   "execution_count": 11,
   "metadata": {},
   "outputs": [],
   "source": [
    "##This will be added to our Test_2df.csv column\n",
    "predict_ret_121_lr = test.add_column(train_predict_lr, 'Ret_121')\n",
    "##predict_ret_121_lr.show()"
   ]
  },
  {
   "cell_type": "code",
   "execution_count": null,
   "metadata": {},
   "outputs": [],
   "source": []
  },
  {
   "cell_type": "markdown",
   "metadata": {},
   "source": [
    "# Here we are going to create and evaluate our boosted tree regression model"
   ]
  },
  {
   "cell_type": "code",
   "execution_count": 12,
   "metadata": {},
   "outputs": [
    {
     "name": "stdout",
     "output_type": "stream",
     "text": [
      "PROGRESS: Creating a validation set from 5 percent of training data. This may take a while.\n",
      "          You can set ``validation_set=None`` to disable validation tracking.\n",
      "\n"
     ]
    },
    {
     "data": {
      "text/html": [
       "<pre>Boosted trees regression:</pre>"
      ],
      "text/plain": [
       "Boosted trees regression:"
      ]
     },
     "metadata": {},
     "output_type": "display_data"
    },
    {
     "data": {
      "text/html": [
       "<pre>--------------------------------------------------------</pre>"
      ],
      "text/plain": [
       "--------------------------------------------------------"
      ]
     },
     "metadata": {},
     "output_type": "display_data"
    },
    {
     "data": {
      "text/html": [
       "<pre>Number of examples          : 26644</pre>"
      ],
      "text/plain": [
       "Number of examples          : 26644"
      ]
     },
     "metadata": {},
     "output_type": "display_data"
    },
    {
     "data": {
      "text/html": [
       "<pre>Number of features          : 211</pre>"
      ],
      "text/plain": [
       "Number of features          : 211"
      ]
     },
     "metadata": {},
     "output_type": "display_data"
    },
    {
     "data": {
      "text/html": [
       "<pre>Number of unpacked features : 211</pre>"
      ],
      "text/plain": [
       "Number of unpacked features : 211"
      ]
     },
     "metadata": {},
     "output_type": "display_data"
    },
    {
     "data": {
      "text/html": [
       "<pre>+-----------+--------------+--------------------+----------------------+---------------------------------+-----------------------------------+</pre>"
      ],
      "text/plain": [
       "+-----------+--------------+--------------------+----------------------+---------------------------------+-----------------------------------+"
      ]
     },
     "metadata": {},
     "output_type": "display_data"
    },
    {
     "data": {
      "text/html": [
       "<pre>| Iteration | Elapsed Time | Training Max Error | Validation Max Error | Training Root-Mean-Square Error | Validation Root-Mean-Square Error |</pre>"
      ],
      "text/plain": [
       "| Iteration | Elapsed Time | Training Max Error | Validation Max Error | Training Root-Mean-Square Error | Validation Root-Mean-Square Error |"
      ]
     },
     "metadata": {},
     "output_type": "display_data"
    },
    {
     "data": {
      "text/html": [
       "<pre>+-----------+--------------+--------------------+----------------------+---------------------------------+-----------------------------------+</pre>"
      ],
      "text/plain": [
       "+-----------+--------------+--------------------+----------------------+---------------------------------+-----------------------------------+"
      ]
     },
     "metadata": {},
     "output_type": "display_data"
    },
    {
     "data": {
      "text/html": [
       "<pre>| 1         | 0.049320     | 0.365057           | 0.362968             | 0.350026                        | 0.350025                          |</pre>"
      ],
      "text/plain": [
       "| 1         | 0.049320     | 0.365057           | 0.362968             | 0.350026                        | 0.350025                          |"
      ]
     },
     "metadata": {},
     "output_type": "display_data"
    },
    {
     "data": {
      "text/html": [
       "<pre>| 2         | 0.092338     | 0.260054           | 0.257965             | 0.245024                        | 0.245022                          |</pre>"
      ],
      "text/plain": [
       "| 2         | 0.092338     | 0.260054           | 0.257965             | 0.245024                        | 0.245022                          |"
      ]
     },
     "metadata": {},
     "output_type": "display_data"
    },
    {
     "data": {
      "text/html": [
       "<pre>| 3         | 0.126969     | 0.186550           | 0.184461             | 0.171521                        | 0.171519                          |</pre>"
      ],
      "text/plain": [
       "| 3         | 0.126969     | 0.186550           | 0.184461             | 0.171521                        | 0.171519                          |"
      ]
     },
     "metadata": {},
     "output_type": "display_data"
    },
    {
     "data": {
      "text/html": [
       "<pre>| 4         | 0.162030     | 0.135097           | 0.133007             | 0.120069                        | 0.120067                          |</pre>"
      ],
      "text/plain": [
       "| 4         | 0.162030     | 0.135097           | 0.133007             | 0.120069                        | 0.120067                          |"
      ]
     },
     "metadata": {},
     "output_type": "display_data"
    },
    {
     "data": {
      "text/html": [
       "<pre>| 5         | 0.222688     | 0.099078           | 0.096989             | 0.084053                        | 0.084050                          |</pre>"
      ],
      "text/plain": [
       "| 5         | 0.222688     | 0.099078           | 0.096989             | 0.084053                        | 0.084050                          |"
      ]
     },
     "metadata": {},
     "output_type": "display_data"
    },
    {
     "data": {
      "text/html": [
       "<pre>| 10        | 0.582233     | 0.028506           | 0.027070             | 0.014164                        | 0.014161                          |</pre>"
      ],
      "text/plain": [
       "| 10        | 0.582233     | 0.028506           | 0.027070             | 0.014164                        | 0.014161                          |"
      ]
     },
     "metadata": {},
     "output_type": "display_data"
    },
    {
     "data": {
      "text/html": [
       "<pre>+-----------+--------------+--------------------+----------------------+---------------------------------+-----------------------------------+</pre>"
      ],
      "text/plain": [
       "+-----------+--------------+--------------------+----------------------+---------------------------------+-----------------------------------+"
      ]
     },
     "metadata": {},
     "output_type": "display_data"
    }
   ],
   "source": [
    "train_model_bt = tc.boosted_trees_regression.create(train_splitted, target='Ret_121')"
   ]
  },
  {
   "cell_type": "code",
   "execution_count": 13,
   "metadata": {},
   "outputs": [
    {
     "name": "stdout",
     "output_type": "stream",
     "text": [
      "{'max_error': 0.034839583560824394, 'rmse': 0.014192864682949889}\n"
     ]
    }
   ],
   "source": [
    "print(train_model_bt.evaluate(test_splitted))"
   ]
  },
  {
   "cell_type": "code",
   "execution_count": 14,
   "metadata": {},
   "outputs": [
    {
     "name": "stdout",
     "output_type": "stream",
     "text": [
      "[0.013098835945129395, 0.013098835945129395, 0.013098835945129395, 0.013098835945129395, 0.013098835945129395, 0.013098835945129395, 0.013098835945129395, 0.013098835945129395, 0.013098835945129395, 0.013098835945129395, 0.013098835945129395, 0.013098835945129395, 0.013098835945129395, 0.013098835945129395, 0.013098835945129395, 0.013098835945129395, 0.013098835945129395, 0.013098835945129395, 0.013098835945129395, 0.013098835945129395, 0.013098835945129395, 0.013098835945129395, 0.013098835945129395, 0.013098835945129395, 0.013098835945129395, 0.013098835945129395, 0.013098835945129395, 0.013098835945129395, 0.013098835945129395, 0.013098835945129395, 0.013098835945129395, 0.013098835945129395, 0.013098835945129395, 0.013098835945129395, 0.013098835945129395, 0.013098835945129395, 0.013098835945129395, 0.013098835945129395, 0.013098835945129395, 0.013098835945129395, 0.013098835945129395, 0.013098835945129395, 0.013098835945129395, 0.013098835945129395, 0.013098835945129395, 0.013098835945129395, 0.013098835945129395, 0.013098835945129395, 0.013098835945129395, 0.013098835945129395, 0.013098835945129395, 0.013098835945129395, 0.013098835945129395, 0.013098835945129395, 0.013098835945129395, 0.013098835945129395, 0.013098835945129395, 0.013098835945129395, 0.013098835945129395, 0.013098835945129395, 0.013098835945129395, 0.013098835945129395, 0.013098835945129395, 0.013098835945129395, 0.013098835945129395, 0.013098835945129395, 0.013098835945129395, 0.013098835945129395, 0.013098835945129395, 0.013098835945129395, 0.013098835945129395, 0.013098835945129395, 0.013098835945129395, 0.013098835945129395, 0.013098835945129395, 0.013098835945129395, 0.013098835945129395, 0.013098835945129395, 0.013098835945129395, 0.013098835945129395, 0.013098835945129395, 0.013098835945129395, 0.013098835945129395, 0.013098835945129395, 0.013098835945129395, 0.013098835945129395, 0.013098835945129395, 0.013098835945129395, 0.013098835945129395, 0.013098835945129395, 0.013098835945129395, 0.013098835945129395, 0.013098835945129395, 0.013098835945129395, 0.013098835945129395, 0.013098835945129395, 0.013098835945129395, 0.013098835945129395, 0.013098835945129395, 0.013098835945129395, ... ]\n"
     ]
    }
   ],
   "source": [
    "train_predict_bt = train_model_bt.predict(test)\n",
    "print(train_predict_bt)"
   ]
  },
  {
   "cell_type": "code",
   "execution_count": 15,
   "metadata": {},
   "outputs": [],
   "source": [
    "predict_ret_121_bt = test.add_column(train_predict_bt, 'Ret_121')\n",
    "##predict_ret_121_bt.show()"
   ]
  },
  {
   "cell_type": "markdown",
   "metadata": {},
   "source": [
    "# The following will be our 2nd linear regression model to predict Ret_122\n",
    "# we added Ret_121 to help our prediction for Ret_122"
   ]
  },
  {
   "cell_type": "code",
   "execution_count": 16,
   "metadata": {},
   "outputs": [],
   "source": [
    "my_features_2 = ['Feature_2','Feature_3', 'Feature_4', 'Feature_5', 'Feature_6', 'Feature_7' , 'Feature_8', 'Feature_9',\n",
    "               'Feature_10','Feature_11','Feature_12','Feature_13','Feature_14','Feature_15','Feature_16','Feature_17','Feature_18',\n",
    "               'Feature_19','Feature_20','Feature_21','Feature_22','Feature_23','Feature_24','Feature_25',\n",
    "               'Ret_2' ,  'Ret_3','Ret_4','Ret_5' ,'Ret_6','Ret_7' , 'Ret_8','Ret_9','Ret_10','Ret_11','Ret_12',    \n",
    "               'Ret_13','Ret_14','Ret_15','Ret_16','Ret_17', 'Ret_18','Ret_19','Ret_20','Ret_21','Ret_22',    \n",
    "               'Ret_23','Ret_24','Ret_25','Ret_26','Ret_27','Ret_28','Ret_29','Ret_30','Ret_31','Ret_32',   \n",
    "               'Ret_33','Ret_34','Ret_35','Ret_36','Ret_37','Ret_38','Ret_39','Ret_40','Ret_41','Ret_42',    \n",
    "               'Ret_43','Ret_44','Ret_45','Ret_46','Ret_47','Ret_48','Ret_49','Ret_50','Ret_51','Ret_52',   \n",
    "               'Ret_53','Ret_54','Ret_55','Ret_56','Ret_57','Ret_58','Ret_59','Ret_60','Ret_61','Ret_62',   \n",
    "               'Ret_63','Ret_64','Ret_65','Ret_66','Ret_67','Ret_68','Ret_69','Ret_70','Ret_71','Ret_72' ,   \n",
    "               'Ret_73','Ret_74','Ret_75','Ret_76','Ret_77','Ret_78','Ret_79','Ret_80','Ret_81','Ret_82',    \n",
    "               'Ret_83','Ret_84','Ret_85','Ret_86','Ret_87','Ret_88','Ret_89','Ret_90','Ret_91','Ret_92',   \n",
    "               'Ret_93','Ret_94','Ret_95','Ret_96','Ret_97','Ret_98','Ret_99','Ret_100','Ret_101' ,'Ret_102',   \n",
    "               'Ret_103','Ret_104','Ret_105','Ret_106','Ret_107','Ret_108','Ret_109','Ret_110','Ret_111',   \n",
    "               'Ret_112','Ret_113','Ret_114','Ret_115','Ret_116','Ret_117','Ret_118','Ret_119','Ret_120','Ret_121']"
   ]
  },
  {
   "cell_type": "code",
   "execution_count": 17,
   "metadata": {},
   "outputs": [
    {
     "name": "stdout",
     "output_type": "stream",
     "text": [
      "PROGRESS: Creating a validation set from 5 percent of training data. This may take a while.\n",
      "          You can set ``validation_set=None`` to disable validation tracking.\n",
      "\n"
     ]
    },
    {
     "data": {
      "text/html": [
       "<pre>Linear regression:</pre>"
      ],
      "text/plain": [
       "Linear regression:"
      ]
     },
     "metadata": {},
     "output_type": "display_data"
    },
    {
     "data": {
      "text/html": [
       "<pre>--------------------------------------------------------</pre>"
      ],
      "text/plain": [
       "--------------------------------------------------------"
      ]
     },
     "metadata": {},
     "output_type": "display_data"
    },
    {
     "data": {
      "text/html": [
       "<pre>Number of examples          : 26644</pre>"
      ],
      "text/plain": [
       "Number of examples          : 26644"
      ]
     },
     "metadata": {},
     "output_type": "display_data"
    },
    {
     "data": {
      "text/html": [
       "<pre>Number of features          : 144</pre>"
      ],
      "text/plain": [
       "Number of features          : 144"
      ]
     },
     "metadata": {},
     "output_type": "display_data"
    },
    {
     "data": {
      "text/html": [
       "<pre>Number of unpacked features : 144</pre>"
      ],
      "text/plain": [
       "Number of unpacked features : 144"
      ]
     },
     "metadata": {},
     "output_type": "display_data"
    },
    {
     "data": {
      "text/html": [
       "<pre>Number of coefficients    : 145</pre>"
      ],
      "text/plain": [
       "Number of coefficients    : 145"
      ]
     },
     "metadata": {},
     "output_type": "display_data"
    },
    {
     "data": {
      "text/html": [
       "<pre>Starting Newton Method</pre>"
      ],
      "text/plain": [
       "Starting Newton Method"
      ]
     },
     "metadata": {},
     "output_type": "display_data"
    },
    {
     "data": {
      "text/html": [
       "<pre>--------------------------------------------------------</pre>"
      ],
      "text/plain": [
       "--------------------------------------------------------"
      ]
     },
     "metadata": {},
     "output_type": "display_data"
    },
    {
     "data": {
      "text/html": [
       "<pre>+-----------+----------+--------------+--------------------+----------------------+---------------------------------+-----------------------------------+</pre>"
      ],
      "text/plain": [
       "+-----------+----------+--------------+--------------------+----------------------+---------------------------------+-----------------------------------+"
      ]
     },
     "metadata": {},
     "output_type": "display_data"
    },
    {
     "data": {
      "text/html": [
       "<pre>| Iteration | Passes   | Elapsed Time | Training Max Error | Validation Max Error | Training Root-Mean-Square Error | Validation Root-Mean-Square Error |</pre>"
      ],
      "text/plain": [
       "| Iteration | Passes   | Elapsed Time | Training Max Error | Validation Max Error | Training Root-Mean-Square Error | Validation Root-Mean-Square Error |"
      ]
     },
     "metadata": {},
     "output_type": "display_data"
    },
    {
     "data": {
      "text/html": [
       "<pre>+-----------+----------+--------------+--------------------+----------------------+---------------------------------+-----------------------------------+</pre>"
      ],
      "text/plain": [
       "+-----------+----------+--------------+--------------------+----------------------+---------------------------------+-----------------------------------+"
      ]
     },
     "metadata": {},
     "output_type": "display_data"
    },
    {
     "data": {
      "text/html": [
       "<pre>| 1         | 2        | 0.163059     | 0.023210           | 0.011362             | 0.001073                        | 0.001124                          |</pre>"
      ],
      "text/plain": [
       "| 1         | 2        | 0.163059     | 0.023210           | 0.011362             | 0.001073                        | 0.001124                          |"
      ]
     },
     "metadata": {},
     "output_type": "display_data"
    },
    {
     "data": {
      "text/html": [
       "<pre>+-----------+----------+--------------+--------------------+----------------------+---------------------------------+-----------------------------------+</pre>"
      ],
      "text/plain": [
       "+-----------+----------+--------------+--------------------+----------------------+---------------------------------+-----------------------------------+"
      ]
     },
     "metadata": {},
     "output_type": "display_data"
    },
    {
     "data": {
      "text/html": [
       "<pre>SUCCESS: Optimal solution found.</pre>"
      ],
      "text/plain": [
       "SUCCESS: Optimal solution found."
      ]
     },
     "metadata": {},
     "output_type": "display_data"
    },
    {
     "data": {
      "text/html": [
       "<pre></pre>"
      ],
      "text/plain": []
     },
     "metadata": {},
     "output_type": "display_data"
    }
   ],
   "source": [
    "train_model_lr_2 = tc.linear_regression.create(train_splitted, target = 'Ret_122',\n",
    "                                                    features = my_features_2)"
   ]
  },
  {
   "cell_type": "code",
   "execution_count": 18,
   "metadata": {},
   "outputs": [
    {
     "name": "stdout",
     "output_type": "stream",
     "text": [
      "{'max_error': 0.012569670489037295, 'rmse': 0.0010997925308388551}\n"
     ]
    }
   ],
   "source": [
    "print(train_model_lr_2.evaluate(test_splitted))"
   ]
  },
  {
   "cell_type": "code",
   "execution_count": 19,
   "metadata": {},
   "outputs": [
    {
     "name": "stdout",
     "output_type": "stream",
     "text": [
      "[0.0004212407798749664, 0.0003460540522883766, 2.123638585512636e-05, 0.00020956475557215885, 8.596304965662293e-05, -0.0001169478597225251, 4.000833355654053e-05, 0.0008067370342973454, 0.0001103735437096643, -0.00017673444205987333, -0.0002638000398236967, 0.00024256781012784454, 2.478317282854516e-05, 3.3268729012321193e-05, -2.2924546256446177e-05, 0.0002506930561869318, -2.8027281707793805e-05, 0.0003426257849558033, -1.1579019604898873e-05, -0.0003169443959050624, 0.0002807343020622536, -3.486258421069244e-05, 0.00022711811546200216, -4.3794426135765124e-05, 0.00046667517772296736, -0.00022231960609948084, 0.0013842923502852616, -0.00011769637730449775, 7.77782495938318e-05, -0.00023349371880307125, -0.00047384720620093014, 0.0002657627343610633, -0.003556994648358649, 0.00014752296416676338, 0.00014648173539100434, 0.0001244978514011012, -0.0010924961428053878, -0.0019468365295543782, 0.00017973008966220205, -0.0001378694971829169, -0.00012751831514330416, 5.601826257045124e-05, -7.497494667132386e-05, -0.00022713721582244236, 1.8154475414993576e-05, -5.7847349152718e-05, -0.00010111549011689754, 1.7778480799378777e-05, -2.9564913212371056e-05, -0.0002855719559978314, -0.00010769837015847818, -0.00011277934488922544, -1.3984035403231786e-05, 0.00013385374068969395, -0.00013219897194545948, 0.00031050521521349675, 0.00040604617425188383, -8.900047180240697e-05, 0.0009036026582604168, -0.00021274837201145855, 5.5092835191072924e-05, -3.390676741568903e-05, 0.00028229630206935696, -0.00017478125889386006, -0.0001774228573579311, -0.00028186138917742765, -0.0002166832311445113, -9.910328764803052e-06, -0.00016194820500778834, 0.0002835214921730469, 0.00029667764707519753, 0.0005331694279800639, 0.00010691993334424415, -9.481408690993336e-05, -3.238992307697254e-05, -0.0002702588669291393, 7.15652258564954e-05, -7.021353618073063e-05, 8.889147589085636e-05, 5.064099585470834e-05, -7.250105784820545e-05, 0.0003822704563622457, 0.00020106626130525832, -0.0001249527973540296, 0.0003172842515273137, 0.0002186003371341163, 0.00019992728966638785, -0.0001788688752743164, 7.534335454077587e-05, -0.00012273657173205647, 1.7549064282811852e-05, -0.00010000369682618463, 7.3564434444638226e-06, 0.00010793681790628729, -0.00022849404825869683, 0.00016748893877167848, -8.991015862294336e-05, 9.352278262559315e-05, 0.0003387135822504963, 2.0039459132846098e-05, ... ]\n"
     ]
    }
   ],
   "source": [
    "train_predict_lr_2 = train_model_lr_2.predict(test)\n",
    "print(train_predict_lr_2)"
   ]
  },
  {
   "cell_type": "code",
   "execution_count": 20,
   "metadata": {},
   "outputs": [],
   "source": [
    "predict_ret_122_lr = test.add_column(train_predict_lr, 'Ret_122')\n",
    "##predict_ret_122_lr.show()"
   ]
  },
  {
   "cell_type": "markdown",
   "metadata": {},
   "source": [
    "# Boosted Tree Model"
   ]
  },
  {
   "cell_type": "code",
   "execution_count": 21,
   "metadata": {},
   "outputs": [
    {
     "name": "stdout",
     "output_type": "stream",
     "text": [
      "PROGRESS: Creating a validation set from 5 percent of training data. This may take a while.\n",
      "          You can set ``validation_set=None`` to disable validation tracking.\n",
      "\n"
     ]
    },
    {
     "data": {
      "text/html": [
       "<pre>Boosted trees regression:</pre>"
      ],
      "text/plain": [
       "Boosted trees regression:"
      ]
     },
     "metadata": {},
     "output_type": "display_data"
    },
    {
     "data": {
      "text/html": [
       "<pre>--------------------------------------------------------</pre>"
      ],
      "text/plain": [
       "--------------------------------------------------------"
      ]
     },
     "metadata": {},
     "output_type": "display_data"
    },
    {
     "data": {
      "text/html": [
       "<pre>Number of examples          : 38000</pre>"
      ],
      "text/plain": [
       "Number of examples          : 38000"
      ]
     },
     "metadata": {},
     "output_type": "display_data"
    },
    {
     "data": {
      "text/html": [
       "<pre>Number of features          : 211</pre>"
      ],
      "text/plain": [
       "Number of features          : 211"
      ]
     },
     "metadata": {},
     "output_type": "display_data"
    },
    {
     "data": {
      "text/html": [
       "<pre>Number of unpacked features : 211</pre>"
      ],
      "text/plain": [
       "Number of unpacked features : 211"
      ]
     },
     "metadata": {},
     "output_type": "display_data"
    },
    {
     "data": {
      "text/html": [
       "<pre>+-----------+--------------+--------------------+----------------------+---------------------------------+-----------------------------------+</pre>"
      ],
      "text/plain": [
       "+-----------+--------------+--------------------+----------------------+---------------------------------+-----------------------------------+"
      ]
     },
     "metadata": {},
     "output_type": "display_data"
    },
    {
     "data": {
      "text/html": [
       "<pre>| Iteration | Elapsed Time | Training Max Error | Validation Max Error | Training Root-Mean-Square Error | Validation Root-Mean-Square Error |</pre>"
      ],
      "text/plain": [
       "| Iteration | Elapsed Time | Training Max Error | Validation Max Error | Training Root-Mean-Square Error | Validation Root-Mean-Square Error |"
      ]
     },
     "metadata": {},
     "output_type": "display_data"
    },
    {
     "data": {
      "text/html": [
       "<pre>+-----------+--------------+--------------------+----------------------+---------------------------------+-----------------------------------+</pre>"
      ],
      "text/plain": [
       "+-----------+--------------+--------------------+----------------------+---------------------------------+-----------------------------------+"
      ]
     },
     "metadata": {},
     "output_type": "display_data"
    },
    {
     "data": {
      "text/html": [
       "<pre>| 1         | 0.049371     | 0.372572           | 0.365628             | 0.350024                        | 0.350068                          |</pre>"
      ],
      "text/plain": [
       "| 1         | 0.049371     | 0.372572           | 0.365628             | 0.350024                        | 0.350068                          |"
      ]
     },
     "metadata": {},
     "output_type": "display_data"
    },
    {
     "data": {
      "text/html": [
       "<pre>| 2         | 0.079660     | 0.267568           | 0.260624             | 0.245021                        | 0.245065                          |</pre>"
      ],
      "text/plain": [
       "| 2         | 0.079660     | 0.267568           | 0.260624             | 0.245021                        | 0.245065                          |"
      ]
     },
     "metadata": {},
     "output_type": "display_data"
    },
    {
     "data": {
      "text/html": [
       "<pre>| 3         | 0.109774     | 0.194065           | 0.187120             | 0.171519                        | 0.171563                          |</pre>"
      ],
      "text/plain": [
       "| 3         | 0.109774     | 0.194065           | 0.187120             | 0.171519                        | 0.171563                          |"
      ]
     },
     "metadata": {},
     "output_type": "display_data"
    },
    {
     "data": {
      "text/html": [
       "<pre>| 4         | 0.139099     | 0.142612           | 0.135667             | 0.120067                        | 0.120111                          |</pre>"
      ],
      "text/plain": [
       "| 4         | 0.139099     | 0.142612           | 0.135667             | 0.120067                        | 0.120111                          |"
      ]
     },
     "metadata": {},
     "output_type": "display_data"
    },
    {
     "data": {
      "text/html": [
       "<pre>| 5         | 0.173843     | 0.106594           | 0.099649             | 0.084052                        | 0.084096                          |</pre>"
      ],
      "text/plain": [
       "| 5         | 0.173843     | 0.106594           | 0.099649             | 0.084052                        | 0.084096                          |"
      ]
     },
     "metadata": {},
     "output_type": "display_data"
    },
    {
     "data": {
      "text/html": [
       "<pre>| 10        | 0.502946     | 0.036680           | 0.028529             | 0.014171                        | 0.014219                          |</pre>"
      ],
      "text/plain": [
       "| 10        | 0.502946     | 0.036680           | 0.028529             | 0.014171                        | 0.014219                          |"
      ]
     },
     "metadata": {},
     "output_type": "display_data"
    },
    {
     "data": {
      "text/html": [
       "<pre>+-----------+--------------+--------------------+----------------------+---------------------------------+-----------------------------------+</pre>"
      ],
      "text/plain": [
       "+-----------+--------------+--------------------+----------------------+---------------------------------+-----------------------------------+"
      ]
     },
     "metadata": {},
     "output_type": "display_data"
    }
   ],
   "source": [
    "train_model_bt_2 = tc.boosted_trees_regression.create(train, target='Ret_122')"
   ]
  },
  {
   "cell_type": "code",
   "execution_count": 22,
   "metadata": {},
   "outputs": [
    {
     "name": "stdout",
     "output_type": "stream",
     "text": [
      "{'max_error': 0.028529010713100433, 'rmse': 0.014161963262727216}\n"
     ]
    }
   ],
   "source": [
    "print(train_model_bt_2.evaluate(test_splitted))"
   ]
  },
  {
   "cell_type": "code",
   "execution_count": 23,
   "metadata": {},
   "outputs": [
    {
     "name": "stdout",
     "output_type": "stream",
     "text": [
      "[0.01894286274909973, 0.01894286274909973, 0.01894286274909973, 0.01894286274909973, 0.01894286274909973, 0.01894286274909973, 0.01894286274909973, 0.01894286274909973, 0.01894286274909973, 0.01894286274909973, 0.01894286274909973, 0.01894286274909973, 0.01894286274909973, 0.01894286274909973, 0.01894286274909973, 0.01894286274909973, 0.01894286274909973, 0.01894286274909973, 0.01894286274909973, 0.01894286274909973, 0.01894286274909973, 0.01894286274909973, 0.01894286274909973, 0.01894286274909973, 0.01894286274909973, 0.01894286274909973, 0.01894286274909973, 0.01894286274909973, 0.01894286274909973, 0.01894286274909973, 0.01894286274909973, 0.01894286274909973, 0.01894286274909973, 0.01894286274909973, 0.01894286274909973, 0.01894286274909973, 0.01894286274909973, 0.01894286274909973, 0.01894286274909973, 0.01894286274909973, 0.01894286274909973, 0.01894286274909973, 0.01894286274909973, 0.01894286274909973, 0.01894286274909973, 0.01894286274909973, 0.01894286274909973, 0.01894286274909973, 0.01894286274909973, 0.01894286274909973, 0.01894286274909973, 0.01894286274909973, 0.01894286274909973, 0.01894286274909973, 0.01894286274909973, 0.01894286274909973, 0.01894286274909973, 0.01894286274909973, 0.01894286274909973, 0.01894286274909973, 0.01894286274909973, 0.01894286274909973, 0.01894286274909973, 0.01894286274909973, 0.01894286274909973, 0.01894286274909973, 0.01894286274909973, 0.01894286274909973, 0.01894286274909973, 0.01894286274909973, 0.01894286274909973, 0.01894286274909973, 0.01894286274909973, 0.01894286274909973, 0.01894286274909973, 0.01894286274909973, 0.01894286274909973, 0.01894286274909973, 0.01894286274909973, 0.01894286274909973, 0.01894286274909973, 0.01894286274909973, 0.01894286274909973, 0.01894286274909973, 0.01894286274909973, 0.01894286274909973, 0.01894286274909973, 0.01894286274909973, 0.01894286274909973, 0.01894286274909973, 0.01894286274909973, 0.01894286274909973, 0.01894286274909973, 0.01894286274909973, 0.01894286274909973, 0.01894286274909973, 0.01894286274909973, 0.01894286274909973, 0.01894286274909973, 0.01894286274909973, ... ]\n"
     ]
    }
   ],
   "source": [
    "train_predict_bt_2 = train_model_bt_2.predict(test)\n",
    "print(train_predict_bt_2)"
   ]
  },
  {
   "cell_type": "code",
   "execution_count": 24,
   "metadata": {},
   "outputs": [],
   "source": [
    "predict_ret_122_bt = test.add_column(train_predict_bt_2, 'Ret_122')\n",
    "##predict_ret_122_bt.show()"
   ]
  },
  {
   "cell_type": "markdown",
   "metadata": {},
   "source": [
    "# We are creating a linear regression for Ret 121 but this time with the full train, no split"
   ]
  },
  {
   "cell_type": "code",
   "execution_count": 25,
   "metadata": {
    "scrolled": true
   },
   "outputs": [
    {
     "name": "stdout",
     "output_type": "stream",
     "text": [
      "PROGRESS: Creating a validation set from 5 percent of training data. This may take a while.\n",
      "          You can set ``validation_set=None`` to disable validation tracking.\n",
      "\n"
     ]
    },
    {
     "data": {
      "text/html": [
       "<pre>Linear regression:</pre>"
      ],
      "text/plain": [
       "Linear regression:"
      ]
     },
     "metadata": {},
     "output_type": "display_data"
    },
    {
     "data": {
      "text/html": [
       "<pre>--------------------------------------------------------</pre>"
      ],
      "text/plain": [
       "--------------------------------------------------------"
      ]
     },
     "metadata": {},
     "output_type": "display_data"
    },
    {
     "data": {
      "text/html": [
       "<pre>Number of examples          : 38000</pre>"
      ],
      "text/plain": [
       "Number of examples          : 38000"
      ]
     },
     "metadata": {},
     "output_type": "display_data"
    },
    {
     "data": {
      "text/html": [
       "<pre>Number of features          : 143</pre>"
      ],
      "text/plain": [
       "Number of features          : 143"
      ]
     },
     "metadata": {},
     "output_type": "display_data"
    },
    {
     "data": {
      "text/html": [
       "<pre>Number of unpacked features : 143</pre>"
      ],
      "text/plain": [
       "Number of unpacked features : 143"
      ]
     },
     "metadata": {},
     "output_type": "display_data"
    },
    {
     "data": {
      "text/html": [
       "<pre>Number of coefficients    : 144</pre>"
      ],
      "text/plain": [
       "Number of coefficients    : 144"
      ]
     },
     "metadata": {},
     "output_type": "display_data"
    },
    {
     "data": {
      "text/html": [
       "<pre>Starting Newton Method</pre>"
      ],
      "text/plain": [
       "Starting Newton Method"
      ]
     },
     "metadata": {},
     "output_type": "display_data"
    },
    {
     "data": {
      "text/html": [
       "<pre>--------------------------------------------------------</pre>"
      ],
      "text/plain": [
       "--------------------------------------------------------"
      ]
     },
     "metadata": {},
     "output_type": "display_data"
    },
    {
     "data": {
      "text/html": [
       "<pre>+-----------+----------+--------------+--------------------+----------------------+---------------------------------+-----------------------------------+</pre>"
      ],
      "text/plain": [
       "+-----------+----------+--------------+--------------------+----------------------+---------------------------------+-----------------------------------+"
      ]
     },
     "metadata": {},
     "output_type": "display_data"
    },
    {
     "data": {
      "text/html": [
       "<pre>| Iteration | Passes   | Elapsed Time | Training Max Error | Validation Max Error | Training Root-Mean-Square Error | Validation Root-Mean-Square Error |</pre>"
      ],
      "text/plain": [
       "| Iteration | Passes   | Elapsed Time | Training Max Error | Validation Max Error | Training Root-Mean-Square Error | Validation Root-Mean-Square Error |"
      ]
     },
     "metadata": {},
     "output_type": "display_data"
    },
    {
     "data": {
      "text/html": [
       "<pre>+-----------+----------+--------------+--------------------+----------------------+---------------------------------+-----------------------------------+</pre>"
      ],
      "text/plain": [
       "+-----------+----------+--------------+--------------------+----------------------+---------------------------------+-----------------------------------+"
      ]
     },
     "metadata": {},
     "output_type": "display_data"
    },
    {
     "data": {
      "text/html": [
       "<pre>| 1         | 2        | 0.215545     | 0.015999           | 0.010806             | 0.001009                        | 0.001077                          |</pre>"
      ],
      "text/plain": [
       "| 1         | 2        | 0.215545     | 0.015999           | 0.010806             | 0.001009                        | 0.001077                          |"
      ]
     },
     "metadata": {},
     "output_type": "display_data"
    },
    {
     "data": {
      "text/html": [
       "<pre>+-----------+----------+--------------+--------------------+----------------------+---------------------------------+-----------------------------------+</pre>"
      ],
      "text/plain": [
       "+-----------+----------+--------------+--------------------+----------------------+---------------------------------+-----------------------------------+"
      ]
     },
     "metadata": {},
     "output_type": "display_data"
    },
    {
     "data": {
      "text/html": [
       "<pre>SUCCESS: Optimal solution found.</pre>"
      ],
      "text/plain": [
       "SUCCESS: Optimal solution found."
      ]
     },
     "metadata": {},
     "output_type": "display_data"
    },
    {
     "data": {
      "text/html": [
       "<pre></pre>"
      ],
      "text/plain": []
     },
     "metadata": {},
     "output_type": "display_data"
    }
   ],
   "source": [
    "train_final =tc.linear_regression.create(train, target = 'Ret_121',\n",
    "                                                    features = my_features)"
   ]
  },
  {
   "cell_type": "code",
   "execution_count": 26,
   "metadata": {},
   "outputs": [
    {
     "name": "stdout",
     "output_type": "stream",
     "text": [
      "{'max_error': 0.015999181242122528, 'rmse': 0.0010123129800176513}\n"
     ]
    }
   ],
   "source": [
    "print(train_final.evaluate(train))"
   ]
  },
  {
   "cell_type": "code",
   "execution_count": 27,
   "metadata": {
    "scrolled": true
   },
   "outputs": [
    {
     "data": {
      "text/plain": [
       "dtype: float\n",
       "Rows: 120000\n",
       "[0.00012503502897277607, -0.00027450716306161315, -0.00016401345372747572, 0.00014133451245892194, -6.230780884727452e-05, -0.0003668406841173535, 0.0002409745310533739, -0.00034996239201852555, -0.00022098368855338218, 5.4098489672524475e-05, -0.0003240716570598503, -1.923961109123562e-05, -0.00023631165319894335, 0.00012616603798269125, -0.00020336859574023326, -0.0003040510750073604, 0.0002180977843745652, -0.00024237967356911268, -0.00021083884441214804, 5.854283937051123e-05, 0.00016178437756625506, -9.870726412219294e-05, -0.0010493584372262288, -0.00018870616044249565, -0.0004344789678003486, -0.00012699489250027313, 0.0003988611149713594, -4.82789872608675e-05, 0.0002622224242529824, 1.4768546130411122e-05, 0.0005596361522529923, -0.0011493862927605147, 6.689065360769987e-05, -0.0003935961531310366, -0.00010275082990582003, -2.9604182436294123e-06, 9.978262302036216e-05, -0.0019201482773924903, 3.4646645727127225e-05, 8.33825716236897e-05, 8.995150814641623e-06, -0.0001339385209530391, -0.00034213742293979826, -0.00010346406051668652, 0.0001964996215944601, -7.712446864301001e-05, 0.00011636451959281402, 0.00023995204167381363, 0.0001131230698342867, 0.00016395499721295464, 4.473780788539616e-05, -0.00016426159215804072, -7.734004070640126e-05, 3.635282006503303e-05, -3.6556742765113284e-05, -0.00026246359503312086, 0.00015061636551525623, -6.555405505795646e-05, -0.000701011873965365, -5.754737933308802e-05, -0.00010609663901089991, -0.0001005658277305995, -0.00014903674351983838, -0.000748414091588108, 0.00012693407520730437, -0.00011932038508099619, -3.9935522078892274e-05, 1.1310182922921424e-05, 0.00019946346605813733, 0.0001657920854127166, -4.274263090695669e-05, -0.00023613158848169146, -8.915347379275884e-05, 5.234175192571751e-05, -1.8523388808075117e-05, -0.00011057839061591992, -0.00022094649001000406, 0.00016504640465989578, -1.3393383094859599e-05, -3.7812308521639426e-05, -0.0005741991474788733, -0.00038818074817369266, 0.00018230876308281, -0.00023044791534659165, 8.10650008194784e-05, -0.00043605914500460276, 0.0003267400386320238, -4.5596753315285926e-05, -0.0004713208466859568, -0.0007121808445847743, -1.0306820703566378e-07, -6.646027398737104e-05, 0.00013497804399283518, -2.1937457077011416e-05, -0.0001239637967993057, 0.0007493954393930544, 0.0001408559708244394, 1.968315990994223e-05, -0.0003578768859664337, 1.970098263305509e-06, ... ]"
      ]
     },
     "execution_count": 27,
     "metadata": {},
     "output_type": "execute_result"
    }
   ],
   "source": [
    "train_final_121 = train_final.predict(test)\n",
    "train_final_121"
   ]
  },
  {
   "cell_type": "code",
   "execution_count": 28,
   "metadata": {},
   "outputs": [],
   "source": [
    "predict_ret_121_lr = test.add_column(train_final_121, 'Ret_121')\n",
    "##predict_ret_121_lr.show()"
   ]
  },
  {
   "cell_type": "markdown",
   "metadata": {},
   "source": [
    "# Another linear regression for ret_122"
   ]
  },
  {
   "cell_type": "code",
   "execution_count": 29,
   "metadata": {},
   "outputs": [
    {
     "name": "stdout",
     "output_type": "stream",
     "text": [
      "PROGRESS: Creating a validation set from 5 percent of training data. This may take a while.\n",
      "          You can set ``validation_set=None`` to disable validation tracking.\n",
      "\n"
     ]
    },
    {
     "data": {
      "text/html": [
       "<pre>Linear regression:</pre>"
      ],
      "text/plain": [
       "Linear regression:"
      ]
     },
     "metadata": {},
     "output_type": "display_data"
    },
    {
     "data": {
      "text/html": [
       "<pre>--------------------------------------------------------</pre>"
      ],
      "text/plain": [
       "--------------------------------------------------------"
      ]
     },
     "metadata": {},
     "output_type": "display_data"
    },
    {
     "data": {
      "text/html": [
       "<pre>Number of examples          : 38000</pre>"
      ],
      "text/plain": [
       "Number of examples          : 38000"
      ]
     },
     "metadata": {},
     "output_type": "display_data"
    },
    {
     "data": {
      "text/html": [
       "<pre>Number of features          : 144</pre>"
      ],
      "text/plain": [
       "Number of features          : 144"
      ]
     },
     "metadata": {},
     "output_type": "display_data"
    },
    {
     "data": {
      "text/html": [
       "<pre>Number of unpacked features : 144</pre>"
      ],
      "text/plain": [
       "Number of unpacked features : 144"
      ]
     },
     "metadata": {},
     "output_type": "display_data"
    },
    {
     "data": {
      "text/html": [
       "<pre>Number of coefficients    : 145</pre>"
      ],
      "text/plain": [
       "Number of coefficients    : 145"
      ]
     },
     "metadata": {},
     "output_type": "display_data"
    },
    {
     "data": {
      "text/html": [
       "<pre>Starting Newton Method</pre>"
      ],
      "text/plain": [
       "Starting Newton Method"
      ]
     },
     "metadata": {},
     "output_type": "display_data"
    },
    {
     "data": {
      "text/html": [
       "<pre>--------------------------------------------------------</pre>"
      ],
      "text/plain": [
       "--------------------------------------------------------"
      ]
     },
     "metadata": {},
     "output_type": "display_data"
    },
    {
     "data": {
      "text/html": [
       "<pre>+-----------+----------+--------------+--------------------+----------------------+---------------------------------+-----------------------------------+</pre>"
      ],
      "text/plain": [
       "+-----------+----------+--------------+--------------------+----------------------+---------------------------------+-----------------------------------+"
      ]
     },
     "metadata": {},
     "output_type": "display_data"
    },
    {
     "data": {
      "text/html": [
       "<pre>| Iteration | Passes   | Elapsed Time | Training Max Error | Validation Max Error | Training Root-Mean-Square Error | Validation Root-Mean-Square Error |</pre>"
      ],
      "text/plain": [
       "| Iteration | Passes   | Elapsed Time | Training Max Error | Validation Max Error | Training Root-Mean-Square Error | Validation Root-Mean-Square Error |"
      ]
     },
     "metadata": {},
     "output_type": "display_data"
    },
    {
     "data": {
      "text/html": [
       "<pre>+-----------+----------+--------------+--------------------+----------------------+---------------------------------+-----------------------------------+</pre>"
      ],
      "text/plain": [
       "+-----------+----------+--------------+--------------------+----------------------+---------------------------------+-----------------------------------+"
      ]
     },
     "metadata": {},
     "output_type": "display_data"
    },
    {
     "data": {
      "text/html": [
       "<pre>| 1         | 2        | 0.202542     | 0.022733           | 0.021867             | 0.001074                        | 0.001209                          |</pre>"
      ],
      "text/plain": [
       "| 1         | 2        | 0.202542     | 0.022733           | 0.021867             | 0.001074                        | 0.001209                          |"
      ]
     },
     "metadata": {},
     "output_type": "display_data"
    },
    {
     "data": {
      "text/html": [
       "<pre>+-----------+----------+--------------+--------------------+----------------------+---------------------------------+-----------------------------------+</pre>"
      ],
      "text/plain": [
       "+-----------+----------+--------------+--------------------+----------------------+---------------------------------+-----------------------------------+"
      ]
     },
     "metadata": {},
     "output_type": "display_data"
    },
    {
     "data": {
      "text/html": [
       "<pre>SUCCESS: Optimal solution found.</pre>"
      ],
      "text/plain": [
       "SUCCESS: Optimal solution found."
      ]
     },
     "metadata": {},
     "output_type": "display_data"
    },
    {
     "data": {
      "text/html": [
       "<pre></pre>"
      ],
      "text/plain": []
     },
     "metadata": {},
     "output_type": "display_data"
    }
   ],
   "source": [
    "train_final_2 =tc.linear_regression.create(train, target = 'Ret_122',\n",
    "                                                    features = my_features_2)"
   ]
  },
  {
   "cell_type": "code",
   "execution_count": 30,
   "metadata": {},
   "outputs": [
    {
     "name": "stdout",
     "output_type": "stream",
     "text": [
      "{'max_error': 0.022732735071063777, 'rmse': 0.0010811399566760813}\n"
     ]
    }
   ],
   "source": [
    "print(train_final_2.evaluate(train))"
   ]
  },
  {
   "cell_type": "code",
   "execution_count": 31,
   "metadata": {},
   "outputs": [
    {
     "data": {
      "text/plain": [
       "dtype: float\n",
       "Rows: 120000\n",
       "[0.0003926305079604188, 0.0003908026922092744, -2.4247282288224805e-05, 0.00016524104649883, 4.646107701980202e-05, -0.0003012328280412228, 9.191412685247954e-05, 0.0009089956688076317, 4.7791300335738853e-05, -0.0002393904644244471, -0.0002671611633958146, 0.00015959487519621838, -7.004414909403774e-05, 3.332890869981765e-05, -7.919576555156287e-05, 0.0002757997692037212, 8.985823789650692e-05, 0.00038022166366727926, -5.732535449315195e-06, -0.00031419604109696935, 0.00028287625811462076, 2.6678023992336795e-06, 9.323278512255026e-06, -7.54169253975255e-05, 0.0005133568707771219, -0.00021125712753498966, 0.0013669497162866065, -0.00010045200265493834, 5.614104440178764e-05, -0.00028116972064506056, -0.0006052652904230673, 0.00036006751944425827, -0.0036133877893470582, 8.495991072191852e-05, 0.0001245960638560096, 0.00019648643941977704, -0.0009621907148286389, -0.002017197315644763, 0.00014062963781804065, -0.00017772721962805037, -4.6213067873751785e-05, 0.00010580900438878605, -0.00019254396549696806, -0.00024500405159326503, 4.168107712917556e-05, -6.658909541821444e-05, 3.24501410068426e-05, 7.722578248234725e-05, -3.85331340970816e-05, -0.00036839006808779247, -0.0001299622622569607, -1.2106066564209449e-05, 3.3727080074896255e-06, 0.00011062818802114844, -9.381271214838706e-05, 0.00030695457403488475, 0.00044810573662794134, -2.5260906871835072e-05, 0.0006660301944041311, -0.0001176766854160262, 6.342498564869875e-05, 8.06412553337498e-05, -2.2320784545793826e-05, -0.00022232903248860852, -0.00016405389723910555, -0.00020958767465270809, -0.00015745355382492147, -0.00011567820017350719, -0.0001228746608568903, 0.00019767545023015093, 0.0003192306696944611, 0.00048083569019777533, 0.00023111666899468394, -6.820515705586804e-05, 8.570103439657119e-05, -0.0001558674284363423, 2.547645565662682e-05, -0.00014002159010759768, 0.0001711802775632615, 7.039205088060817e-06, -0.0001366104110412776, 0.0002699089905688171, 0.0002547449890830005, -1.8120141907658607e-05, 0.0002529878812505015, 0.00024809293157132203, 0.00015517097888977349, -0.00014677902087525772, 8.37799208542374e-05, -2.6416207899585567e-05, 3.740370265147827e-05, -5.561808131612978e-05, -2.6099250295884573e-05, 0.0001558405264562282, -0.00024970787708993914, 0.0001564655304632856, -5.094608234342858e-05, 0.00011788074425721153, 0.00026695006864360475, 7.146399485235026e-05, ... ]"
      ]
     },
     "execution_count": 31,
     "metadata": {},
     "output_type": "execute_result"
    }
   ],
   "source": [
    "train_final_122 = train_final_2.predict(test)\n",
    "train_final_122"
   ]
  },
  {
   "cell_type": "code",
   "execution_count": 32,
   "metadata": {},
   "outputs": [],
   "source": [
    "predict_ret_122 = test.add_column(train_final_122, 'Ret_122')\n",
    "##predict_ret_122.show()"
   ]
  },
  {
   "cell_type": "markdown",
   "metadata": {},
   "source": [
    "# Graphs to compare the stock prices using the predicted values"
   ]
  },
  {
   "cell_type": "code",
   "execution_count": 33,
   "metadata": {},
   "outputs": [],
   "source": [
    "Ret_121_lr = predict_ret_121_lr['Ret_121']\n",
    "Ret_121_bt = predict_ret_121_bt['Ret_121']\n",
    "Ret_122_lr = predict_ret_122_lr['Ret_122']\n",
    "Ret_122_bt = predict_ret_122_bt['Ret_122']\n",
    "train_121 = train['Ret_121']\n",
    "train_122 = train['Ret_122']\n",
    "##value_range = range(1,120001)\n"
   ]
  },
  {
   "cell_type": "code",
   "execution_count": 34,
   "metadata": {},
   "outputs": [
    {
     "data": {
      "text/plain": [
       "<matplotlib.legend.Legend at 0x7fcde99d9f28>"
      ]
     },
     "execution_count": 34,
     "metadata": {},
     "output_type": "execute_result"
    },
    {
     "data": {
      "image/png": "[encoded data removed]",
      "text/plain": [
       "<Figure size 720x360 with 1 Axes>"
      ]
     },
     "metadata": {
      "needs_background": "light"
     },
     "output_type": "display_data"
    }
   ],
   "source": [
    "##Comparing first Linear regression 121 to our Train file 121\n",
    "ig, ax = plt.subplots(figsize = (10, 5))\n",
    "plt.plot(Ret_121_lr, color = 'red', label = 'First Linear Regression Prediction Ret_121' )\n",
    "plt.plot(train_121, color = 'orange', label = 'Ret_121 from Train')\n",
    "plt.xlim([0, 60])\n",
    "plt.ylim([-0.005, 0.005])\n",
    "plt.ylabel('Stock returns')\n",
    "plt.xlabel('Samples')\n",
    "plt.title('First Ret 121 Linear Regression compared to Ret_121 from Train')\n",
    "plt.legend()"
   ]
  },
  {
   "cell_type": "code",
   "execution_count": 35,
   "metadata": {},
   "outputs": [
    {
     "data": {
      "text/plain": [
       "<matplotlib.legend.Legend at 0x7fcde9ade3c8>"
      ]
     },
     "execution_count": 35,
     "metadata": {},
     "output_type": "execute_result"
    },
    {
     "data": {
      "image/png": "[encoded data removed]",
      "text/plain": [
       "<Figure size 720x360 with 1 Axes>"
      ]
     },
     "metadata": {
      "needs_background": "light"
     },
     "output_type": "display_data"
    }
   ],
   "source": [
    "ig, ax = plt.subplots(figsize = (10, 5))\n",
    "plt.plot(Ret_121_bt, color = 'blue', label = 'Boosted Tree Regression Prediction Ret_121' )\n",
    "plt.plot(train_121, color = 'purple', label = 'Ret_121 from Train')\n",
    "plt.xlim([0, 60])\n",
    "plt.ylabel('Stock returns')\n",
    "plt.xlabel('Sample')\n",
    "plt.title('Ret 121 Boosted Tree Regression compared to Ret_121 from Train')\n",
    "plt.legend()"
   ]
  },
  {
   "cell_type": "code",
   "execution_count": 36,
   "metadata": {},
   "outputs": [
    {
     "data": {
      "text/plain": [
       "<matplotlib.legend.Legend at 0x7fcdcb740198>"
      ]
     },
     "execution_count": 36,
     "metadata": {},
     "output_type": "execute_result"
    },
    {
     "data": {
      "image/png": "[encoded data removed]",
      "text/plain": [
       "<Figure size 720x360 with 1 Axes>"
      ]
     },
     "metadata": {
      "needs_background": "light"
     },
     "output_type": "display_data"
    }
   ],
   "source": [
    "ig, ax = plt.subplots(figsize = (10, 5))\n",
    "plt.plot(Ret_122_lr, color = 'green', label = 'First Linear Regression Prediction Ret_122' )\n",
    "plt.plot(train_122, color = 'silver', label = 'Ret_122 from Train')\n",
    "plt.xlim([0, 60])\n",
    "plt.ylim([-0.005, 0.005])\n",
    "plt.ylabel('Stock returns')\n",
    "plt.xlabel('Sample')\n",
    "plt.title('First Ret 122 Linear Regression compared to Ret_122 from Train')\n",
    "plt.legend()"
   ]
  },
  {
   "cell_type": "code",
   "execution_count": 37,
   "metadata": {},
   "outputs": [
    {
     "data": {
      "text/plain": [
       "<matplotlib.legend.Legend at 0x7fcdc19a9d68>"
      ]
     },
     "execution_count": 37,
     "metadata": {},
     "output_type": "execute_result"
    },
    {
     "data": {
      "image/png": "[encoded data removed]",
      "text/plain": [
       "<Figure size 720x360 with 1 Axes>"
      ]
     },
     "metadata": {
      "needs_background": "light"
     },
     "output_type": "display_data"
    }
   ],
   "source": [
    "ig, ax = plt.subplots(figsize = (10, 5))\n",
    "plt.plot(Ret_122_bt, color = 'blue', label = 'Boosted Tree Regression Prediction Ret_122' )\n",
    "plt.plot(train_122, color = 'purple', label = 'Ret_122 from Train')\n",
    "plt.xlim([0, 60])\n",
    "plt.ylabel('Stock returns')\n",
    "plt.xlabel('Sample')\n",
    "plt.title('122 Boosted Tree Regression compared to Ret_122 from Train')\n",
    "plt.legend()"
   ]
  },
  {
   "cell_type": "code",
   "execution_count": 38,
   "metadata": {},
   "outputs": [
    {
     "data": {
      "text/plain": [
       "<matplotlib.legend.Legend at 0x7fcdc19e2ba8>"
      ]
     },
     "execution_count": 38,
     "metadata": {},
     "output_type": "execute_result"
    },
    {
     "data": {
      "image/png": "[encoded data removed]",
      "text/plain": [
       "<Figure size 720x360 with 1 Axes>"
      ]
     },
     "metadata": {
      "needs_background": "light"
     },
     "output_type": "display_data"
    }
   ],
   "source": [
    "ig, ax = plt.subplots(figsize = (10, 5))\n",
    "Ret_121_final = predict_ret_121_lr['Ret_121']\n",
    "plt.plot(Ret_121_lr, color = 'red', label = 'First Linear Regression Prediction Ret_121' )\n",
    "plt.plot(Ret_121_final, color = 'black', label = 'Final Predicted Ret_121')\n",
    "plt.xlim([0, 60])\n",
    "plt.ylim([-0.005, 0.005])\n",
    "plt.xlabel('Sample')\n",
    "plt.ylabel('Stock returns')\n",
    "plt.title('First Regression Model of Ret_121 compared to the Final Linear Regression of Ret_121 ')\n",
    "plt.legend()"
   ]
  },
  {
   "cell_type": "code",
   "execution_count": 39,
   "metadata": {},
   "outputs": [
    {
     "data": {
      "text/plain": [
       "<matplotlib.legend.Legend at 0x7fcdc1948a90>"
      ]
     },
     "execution_count": 39,
     "metadata": {},
     "output_type": "execute_result"
    },
    {
     "data": {
      "image/png": "[encoded data removed]",
      "text/plain": [
       "<Figure size 720x360 with 1 Axes>"
      ]
     },
     "metadata": {
      "needs_background": "light"
     },
     "output_type": "display_data"
    }
   ],
   "source": [
    "ig, ax = plt.subplots(figsize = (10, 5))\n",
    "Ret_122_final = predict_ret_122['Ret_122']\n",
    "plt.plot(Ret_122_lr, color = 'green', label = 'First Linear Regression Prediction Ret_122' )\n",
    "plt.plot(Ret_122_final, color = 'gold', label = 'Final Predicted Ret_122')\n",
    "plt.xlim([0, 60])\n",
    "plt.ylim([-0.005, 0.005])\n",
    "plt.xlabel('Sample')\n",
    "plt.ylabel('Stock returns')\n",
    "plt.title('First Regression Model of Ret_122 compared to the Final Linear Regression of Ret_122 ')\n",
    "plt.legend()"
   ]
  },
  {
   "cell_type": "code",
   "execution_count": null,
   "metadata": {},
   "outputs": [],
   "source": []
  },
  {
   "cell_type": "code",
   "execution_count": null,
   "metadata": {
    "scrolled": true
   },
   "outputs": [],
   "source": []
  },
  {
   "cell_type": "code",
   "execution_count": 40,
   "metadata": {},
   "outputs": [
    {
     "data": {
      "text/plain": [
       "<matplotlib.legend.Legend at 0x7fcdc187e668>"
      ]
     },
     "execution_count": 40,
     "metadata": {},
     "output_type": "execute_result"
    },
    {
     "data": {
      "image/png": "[encoded data removed]",
      "text/plain": [
       "<Figure size 720x360 with 1 Axes>"
      ]
     },
     "metadata": {
      "needs_background": "light"
     },
     "output_type": "display_data"
    }
   ],
   "source": [
    "##This is our final predict Ret_121 vs the train set value for Ret_121\n",
    "fig, ax = plt.subplots(figsize = (10, 5))\n",
    "train_121 = train['Ret_121']\n",
    "Ret_121_final = predict_ret_121_lr['Ret_121']\n",
    "plt.plot(Ret_121_final, color = 'purple', label = 'Predicted Final Ret_121' )\n",
    "plt.plot(train_121, color = 'orange', label = 'Ret_121 from Train')\n",
    "plt.xlim([0, 60])\n",
    "plt.ylim([-0.005, 0.005])\n",
    "plt.xlabel('Sample')\n",
    "plt.ylabel('Stock returns')\n",
    "plt.title('Final Linear Regression of Ret 121 compared to Train 121')\n",
    "plt.legend()"
   ]
  },
  {
   "cell_type": "code",
   "execution_count": 41,
   "metadata": {},
   "outputs": [
    {
     "data": {
      "text/plain": [
       "<matplotlib.legend.Legend at 0x7fcdc17f7c18>"
      ]
     },
     "execution_count": 41,
     "metadata": {},
     "output_type": "execute_result"
    },
    {
     "data": {
      "image/png": "[encoded data removed]",
      "text/plain": [
       "<Figure size 720x360 with 1 Axes>"
      ]
     },
     "metadata": {
      "needs_background": "light"
     },
     "output_type": "display_data"
    }
   ],
   "source": [
    "fig, ax = plt.subplots(figsize = (10, 5))\n",
    "train_122 = train['Ret_122']\n",
    "Ret_122_final = predict_ret_122['Ret_122']\n",
    "plt.plot(Ret_122_final, color = 'green', label = 'Predicted Final Ret_122' )\n",
    "plt.plot(train_122, color = 'blue', label = 'Ret_122 from Train')\n",
    "plt.xlim([0, 60])\n",
    "plt.ylim([-0.005, 0.005])\n",
    "plt.ylabel('Stock returns')\n",
    "plt.xlabel('Sample')\n",
    "plt.title('Final Linear Regression of Ret 122 compared to Train 122')\n",
    "plt.legend()"
   ]
  },
  {
   "cell_type": "code",
   "execution_count": null,
   "metadata": {},
   "outputs": [],
   "source": []
  }
 ],
 "metadata": {
  "kernelspec": {
   "display_name": "Python 3",
   "language": "python",
   "name": "python3"
  },
  "language_info": {
   "codemirror_mode": {
    "name": "ipython",
    "version": 3
   },
   "file_extension": ".py",
   "mimetype": "text/x-python",
   "name": "python",
   "nbconvert_exporter": "python",
   "pygments_lexer": "ipython3",
   "version": "3.7.4"
  }
 },
 "nbformat": 4,
 "nbformat_minor": 4
}
