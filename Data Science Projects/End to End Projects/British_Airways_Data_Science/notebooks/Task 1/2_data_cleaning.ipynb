{
 "cells": [
  {
   "cell_type": "markdown",
   "id": "4e68bb8f",
   "metadata": {},
   "source": [
    "# British Airways Data Science\n",
    " \n",
    "## Data Wrangling/Cleaning\n",
    "\n",
    "The next step of the process is to clean/wrangle the data. Given that it is text data, we will have to run a couple of NLP cleaning techniques to get the data ready for exploratory data analysis and modeling. First, let's import the needed libraries and take a look at the data."
   ]
  },
  {
   "cell_type": "code",
   "execution_count": 72,
   "id": "b517e55a",
   "metadata": {},
   "outputs": [
    {
     "name": "stderr",
     "output_type": "stream",
     "text": [
      "[nltk_data] Error loading stopwords: <urlopen error [SSL:\n",
      "[nltk_data]     CERTIFICATE_VERIFY_FAILED] certificate verify failed:\n",
      "[nltk_data]     unable to get local issuer certificate (_ssl.c:997)>\n"
     ]
    }
   ],
   "source": [
    "import pandas as pd\n",
    "import numpy as np\n",
    "import re\n",
    "import nltk\n",
    "from nltk import *\n",
    "from cleantext import *\n",
    "import spacy\n",
    "from nltk.corpus import stopwords\n",
    "nltk.download('stopwords')\n",
    "stop = stopwords.words('english')"
   ]
  },
  {
   "cell_type": "code",
   "execution_count": 73,
   "id": "511bb022",
   "metadata": {},
   "outputs": [
    {
     "data": {
      "text/html": [
       "<div>\n",
       "<style scoped>\n",
       "    .dataframe tbody tr th:only-of-type {\n",
       "        vertical-align: middle;\n",
       "    }\n",
       "\n",
       "    .dataframe tbody tr th {\n",
       "        vertical-align: top;\n",
       "    }\n",
       "\n",
       "    .dataframe thead th {\n",
       "        text-align: right;\n",
       "    }\n",
       "</style>\n",
       "<table border=\"1\" class=\"dataframe\">\n",
       "  <thead>\n",
       "    <tr style=\"text-align: right;\">\n",
       "      <th></th>\n",
       "      <th>Unnamed: 0</th>\n",
       "      <th>date</th>\n",
       "      <th>rating</th>\n",
       "      <th>body</th>\n",
       "    </tr>\n",
       "  </thead>\n",
       "  <tbody>\n",
       "    <tr>\n",
       "      <th>0</th>\n",
       "      <td>0</td>\n",
       "      <td>8th January 2023</td>\n",
       "      <td>5.0</td>\n",
       "      <td>Not Verified |  Great thing about British Airw...</td>\n",
       "    </tr>\n",
       "    <tr>\n",
       "      <th>1</th>\n",
       "      <td>1</td>\n",
       "      <td>6th January 2023</td>\n",
       "      <td>1.0</td>\n",
       "      <td>Not Verified | The staff are friendly. The pla...</td>\n",
       "    </tr>\n",
       "    <tr>\n",
       "      <th>2</th>\n",
       "      <td>2</td>\n",
       "      <td>2nd January 2023</td>\n",
       "      <td>1.0</td>\n",
       "      <td>✅ Trip Verified | Probably the worst business ...</td>\n",
       "    </tr>\n",
       "    <tr>\n",
       "      <th>3</th>\n",
       "      <td>3</td>\n",
       "      <td>2nd January 2023</td>\n",
       "      <td>2.0</td>\n",
       "      <td>✅ Trip Verified | Definitely not recommended, ...</td>\n",
       "    </tr>\n",
       "    <tr>\n",
       "      <th>4</th>\n",
       "      <td>4</td>\n",
       "      <td>2nd January 2023</td>\n",
       "      <td>8.0</td>\n",
       "      <td>✅ Trip Verified |  BA shuttle service across t...</td>\n",
       "    </tr>\n",
       "  </tbody>\n",
       "</table>\n",
       "</div>"
      ],
      "text/plain": [
       "   Unnamed: 0              date  rating  \\\n",
       "0           0  8th January 2023     5.0   \n",
       "1           1  6th January 2023     1.0   \n",
       "2           2  2nd January 2023     1.0   \n",
       "3           3  2nd January 2023     2.0   \n",
       "4           4  2nd January 2023     8.0   \n",
       "\n",
       "                                                body  \n",
       "0  Not Verified |  Great thing about British Airw...  \n",
       "1  Not Verified | The staff are friendly. The pla...  \n",
       "2  ✅ Trip Verified | Probably the worst business ...  \n",
       "3  ✅ Trip Verified | Definitely not recommended, ...  \n",
       "4  ✅ Trip Verified |  BA shuttle service across t...  "
      ]
     },
     "execution_count": 73,
     "metadata": {},
     "output_type": "execute_result"
    }
   ],
   "source": [
    "data = pd.read_csv('/Users/afifmazhar/Desktop/Data Science/Data Science Projects/British_Airways_Data_Science/data/BA_reviews.csv')\n",
    "data.head()"
   ]
  },
  {
   "cell_type": "code",
   "execution_count": 74,
   "id": "2d5d6ce9",
   "metadata": {},
   "outputs": [
    {
     "data": {
      "text/plain": [
       "(3448, 4)"
      ]
     },
     "execution_count": 74,
     "metadata": {},
     "output_type": "execute_result"
    }
   ],
   "source": [
    "data.shape"
   ]
  },
  {
   "cell_type": "code",
   "execution_count": 75,
   "id": "e05619d9",
   "metadata": {},
   "outputs": [
    {
     "data": {
      "text/plain": [
       "Unnamed: 0      int64\n",
       "date           object\n",
       "rating        float64\n",
       "body           object\n",
       "dtype: object"
      ]
     },
     "execution_count": 75,
     "metadata": {},
     "output_type": "execute_result"
    }
   ],
   "source": [
    "data.dtypes"
   ]
  },
  {
   "cell_type": "markdown",
   "id": "a6620e11",
   "metadata": {},
   "source": [
    "Let's remove the unnecessary 'Unnamed: 0' column and check for null values."
   ]
  },
  {
   "cell_type": "code",
   "execution_count": 76,
   "id": "f51d537c",
   "metadata": {},
   "outputs": [
    {
     "data": {
      "text/html": [
       "<div>\n",
       "<style scoped>\n",
       "    .dataframe tbody tr th:only-of-type {\n",
       "        vertical-align: middle;\n",
       "    }\n",
       "\n",
       "    .dataframe tbody tr th {\n",
       "        vertical-align: top;\n",
       "    }\n",
       "\n",
       "    .dataframe thead th {\n",
       "        text-align: right;\n",
       "    }\n",
       "</style>\n",
       "<table border=\"1\" class=\"dataframe\">\n",
       "  <thead>\n",
       "    <tr style=\"text-align: right;\">\n",
       "      <th></th>\n",
       "      <th>date</th>\n",
       "      <th>rating</th>\n",
       "      <th>body</th>\n",
       "    </tr>\n",
       "  </thead>\n",
       "  <tbody>\n",
       "    <tr>\n",
       "      <th>0</th>\n",
       "      <td>8th January 2023</td>\n",
       "      <td>5.0</td>\n",
       "      <td>Not Verified |  Great thing about British Airw...</td>\n",
       "    </tr>\n",
       "    <tr>\n",
       "      <th>1</th>\n",
       "      <td>6th January 2023</td>\n",
       "      <td>1.0</td>\n",
       "      <td>Not Verified | The staff are friendly. The pla...</td>\n",
       "    </tr>\n",
       "    <tr>\n",
       "      <th>2</th>\n",
       "      <td>2nd January 2023</td>\n",
       "      <td>1.0</td>\n",
       "      <td>✅ Trip Verified | Probably the worst business ...</td>\n",
       "    </tr>\n",
       "    <tr>\n",
       "      <th>3</th>\n",
       "      <td>2nd January 2023</td>\n",
       "      <td>2.0</td>\n",
       "      <td>✅ Trip Verified | Definitely not recommended, ...</td>\n",
       "    </tr>\n",
       "    <tr>\n",
       "      <th>4</th>\n",
       "      <td>2nd January 2023</td>\n",
       "      <td>8.0</td>\n",
       "      <td>✅ Trip Verified |  BA shuttle service across t...</td>\n",
       "    </tr>\n",
       "    <tr>\n",
       "      <th>...</th>\n",
       "      <td>...</td>\n",
       "      <td>...</td>\n",
       "      <td>...</td>\n",
       "    </tr>\n",
       "    <tr>\n",
       "      <th>3443</th>\n",
       "      <td>29th August 2012</td>\n",
       "      <td>10.0</td>\n",
       "      <td>Flew LHR - VIE return operated by bmi but BA a...</td>\n",
       "    </tr>\n",
       "    <tr>\n",
       "      <th>3444</th>\n",
       "      <td>28th August 2012</td>\n",
       "      <td>9.0</td>\n",
       "      <td>LHR to HAM. Purser addresses all club passenge...</td>\n",
       "    </tr>\n",
       "    <tr>\n",
       "      <th>3445</th>\n",
       "      <td>12th October 2011</td>\n",
       "      <td>5.0</td>\n",
       "      <td>My son who had worked for British Airways urge...</td>\n",
       "    </tr>\n",
       "    <tr>\n",
       "      <th>3446</th>\n",
       "      <td>11th October 2011</td>\n",
       "      <td>4.0</td>\n",
       "      <td>London City-New York JFK via Shannon on A318 b...</td>\n",
       "    </tr>\n",
       "    <tr>\n",
       "      <th>3447</th>\n",
       "      <td>9th October 2011</td>\n",
       "      <td>4.0</td>\n",
       "      <td>SIN-LHR BA12 B747-436 First Class. Old aircraf...</td>\n",
       "    </tr>\n",
       "  </tbody>\n",
       "</table>\n",
       "<p>3448 rows × 3 columns</p>\n",
       "</div>"
      ],
      "text/plain": [
       "                   date  rating  \\\n",
       "0      8th January 2023     5.0   \n",
       "1      6th January 2023     1.0   \n",
       "2      2nd January 2023     1.0   \n",
       "3      2nd January 2023     2.0   \n",
       "4      2nd January 2023     8.0   \n",
       "...                 ...     ...   \n",
       "3443   29th August 2012    10.0   \n",
       "3444   28th August 2012     9.0   \n",
       "3445  12th October 2011     5.0   \n",
       "3446  11th October 2011     4.0   \n",
       "3447   9th October 2011     4.0   \n",
       "\n",
       "                                                   body  \n",
       "0     Not Verified |  Great thing about British Airw...  \n",
       "1     Not Verified | The staff are friendly. The pla...  \n",
       "2     ✅ Trip Verified | Probably the worst business ...  \n",
       "3     ✅ Trip Verified | Definitely not recommended, ...  \n",
       "4     ✅ Trip Verified |  BA shuttle service across t...  \n",
       "...                                                 ...  \n",
       "3443  Flew LHR - VIE return operated by bmi but BA a...  \n",
       "3444  LHR to HAM. Purser addresses all club passenge...  \n",
       "3445  My son who had worked for British Airways urge...  \n",
       "3446  London City-New York JFK via Shannon on A318 b...  \n",
       "3447  SIN-LHR BA12 B747-436 First Class. Old aircraf...  \n",
       "\n",
       "[3448 rows x 3 columns]"
      ]
     },
     "execution_count": 76,
     "metadata": {},
     "output_type": "execute_result"
    }
   ],
   "source": [
    "data = data.drop('Unnamed: 0', axis = 1)\n",
    "data"
   ]
  },
  {
   "cell_type": "code",
   "execution_count": 77,
   "id": "c7a03e4e",
   "metadata": {},
   "outputs": [
    {
     "name": "stdout",
     "output_type": "stream",
     "text": [
      "date:  0\n",
      "rating:  0\n",
      "body:  0\n"
     ]
    }
   ],
   "source": [
    "for column in data:\n",
    "    print(column + \": \", sum(data[column].isnull()))"
   ]
  },
  {
   "cell_type": "code",
   "execution_count": 78,
   "id": "e1945576",
   "metadata": {},
   "outputs": [
    {
     "data": {
      "text/plain": [
       "Index(['date', 'rating', 'body'], dtype='object')"
      ]
     },
     "execution_count": 78,
     "metadata": {},
     "output_type": "execute_result"
    }
   ],
   "source": [
    "data.columns"
   ]
  },
  {
   "cell_type": "code",
   "execution_count": 79,
   "id": "31fdb068",
   "metadata": {},
   "outputs": [
    {
     "data": {
      "text/plain": [
       "'Not Verified | The staff are friendly. The plane was cold, we were shivering, they gave light blankets but they were not enough. Meals were basic. Entertainment was basic. Luggage is delayed, today is day 6 and BA staff over the phone say \"call after 72 hours\". Tracking system is very vague, had to extract information from staff that they arrived to Vancouver on Jan 2nd. I offered to collect baggage but very vague answer \"call the Airport\", asked her for BA phone number at YVR but she said \"we don\\'t have a phone number for you to call, call the main Airport\". Their policy states you can make a claim only after 21 days.'"
      ]
     },
     "execution_count": 79,
     "metadata": {},
     "output_type": "execute_result"
    }
   ],
   "source": [
    "data.body[1]"
   ]
  },
  {
   "cell_type": "code",
   "execution_count": 80,
   "id": "afb323ac",
   "metadata": {},
   "outputs": [],
   "source": [
    "tokenizer = WhitespaceTokenizer()\n",
    "lemmatizer = WordNetLemmatizer()"
   ]
  },
  {
   "cell_type": "code",
   "execution_count": 81,
   "id": "674a0f23",
   "metadata": {},
   "outputs": [],
   "source": [
    "def lemmatize_text(text):\n",
    "    return [lemmatizer.lemmatize(w) for w in tokenizer.tokenize(text)]"
   ]
  },
  {
   "cell_type": "code",
   "execution_count": 82,
   "id": "e5f92ccb",
   "metadata": {},
   "outputs": [],
   "source": [
    "data['body'] = data['body'].apply(lemmatize_text)\n",
    "data['body'] = [' '.join(map(str, l)) for l in data['body']]"
   ]
  },
  {
   "cell_type": "markdown",
   "id": "8a1fee31",
   "metadata": {},
   "source": [
    "The review has a lot of unnecessary characters that will interfere in the analysis. We need to remove any additional characters that are irrelevant. This includes links, symbols, special characters, numbers, emojies, etc. Specifically, I want to remove the \"not verified\" and \"trip verified\" portion of the string as it won't be needed. I've created a function that deals with these issues."
   ]
  },
  {
   "cell_type": "code",
   "execution_count": 83,
   "id": "8c647e22",
   "metadata": {},
   "outputs": [],
   "source": [
    "def cleanText(text):\n",
    "    text = re.sub(r'https?:\\/\\/\\S+', '', text) # remove links\n",
    "    text = re.sub(r'@[A-Za-z0-0]+', '', text) # remove @\n",
    "    text = re.sub(r'[!@#$%^&*()_\\-+=''\"\"}{[\\]|,.?<>:;\\'’`~]', '', text) # remove special characters\n",
    "    text = re.sub(r'[0-9]+[a-zA-Z]*', '', text) # remove numbers\n",
    "    text = clean(text, no_emoji = True)\n",
    "    text = re.sub(r'\\Anot verified|\\Atrip verified','', text) # remove 'not verified' or 'trip verified'\n",
    "    text = re.sub(r'\\bwa\\b|\\bba\\b','',text)\n",
    "    return text"
   ]
  },
  {
   "cell_type": "code",
   "execution_count": 84,
   "id": "212e596c",
   "metadata": {},
   "outputs": [],
   "source": [
    "data['body'] = data['body'].apply(cleanText)"
   ]
  },
  {
   "cell_type": "code",
   "execution_count": 85,
   "id": "a4397494",
   "metadata": {},
   "outputs": [],
   "source": [
    "data['body'] = data['body'].apply(lemmatize_text)\n",
    "data['body'] = [' '.join(map(str, l)) for l in data['body']]"
   ]
  },
  {
   "cell_type": "code",
   "execution_count": 86,
   "id": "fbc245e6",
   "metadata": {
    "scrolled": true
   },
   "outputs": [
    {
     "data": {
      "text/html": [
       "<div>\n",
       "<style scoped>\n",
       "    .dataframe tbody tr th:only-of-type {\n",
       "        vertical-align: middle;\n",
       "    }\n",
       "\n",
       "    .dataframe tbody tr th {\n",
       "        vertical-align: top;\n",
       "    }\n",
       "\n",
       "    .dataframe thead th {\n",
       "        text-align: right;\n",
       "    }\n",
       "</style>\n",
       "<table border=\"1\" class=\"dataframe\">\n",
       "  <thead>\n",
       "    <tr style=\"text-align: right;\">\n",
       "      <th></th>\n",
       "      <th>date</th>\n",
       "      <th>rating</th>\n",
       "      <th>body</th>\n",
       "    </tr>\n",
       "  </thead>\n",
       "  <tbody>\n",
       "    <tr>\n",
       "      <th>0</th>\n",
       "      <td>8th January 2023</td>\n",
       "      <td>5.0</td>\n",
       "      <td>great thing about british airway a is the econ...</td>\n",
       "    </tr>\n",
       "    <tr>\n",
       "      <th>1</th>\n",
       "      <td>6th January 2023</td>\n",
       "      <td>1.0</td>\n",
       "      <td>the staff are friendly the plane cold we were ...</td>\n",
       "    </tr>\n",
       "    <tr>\n",
       "      <th>2</th>\n",
       "      <td>2nd January 2023</td>\n",
       "      <td>1.0</td>\n",
       "      <td>probably the worst business class experience i...</td>\n",
       "    </tr>\n",
       "    <tr>\n",
       "      <th>3</th>\n",
       "      <td>2nd January 2023</td>\n",
       "      <td>2.0</td>\n",
       "      <td>definitely not recommended especially for busi...</td>\n",
       "    </tr>\n",
       "    <tr>\n",
       "      <th>4</th>\n",
       "      <td>2nd January 2023</td>\n",
       "      <td>8.0</td>\n",
       "      <td>shuttle service across the uk is still surpris...</td>\n",
       "    </tr>\n",
       "  </tbody>\n",
       "</table>\n",
       "</div>"
      ],
      "text/plain": [
       "               date  rating                                               body\n",
       "0  8th January 2023     5.0  great thing about british airway a is the econ...\n",
       "1  6th January 2023     1.0  the staff are friendly the plane cold we were ...\n",
       "2  2nd January 2023     1.0  probably the worst business class experience i...\n",
       "3  2nd January 2023     2.0  definitely not recommended especially for busi...\n",
       "4  2nd January 2023     8.0  shuttle service across the uk is still surpris..."
      ]
     },
     "execution_count": 86,
     "metadata": {},
     "output_type": "execute_result"
    }
   ],
   "source": [
    "data.head()"
   ]
  },
  {
   "cell_type": "markdown",
   "id": "ee7a48e2",
   "metadata": {},
   "source": [
    "After cleaning most of the additional jargon from the reviews, let's also remove the stopwords using a lambda function down the \"reviews\" column."
   ]
  },
  {
   "cell_type": "code",
   "execution_count": 87,
   "id": "d75cd53a",
   "metadata": {},
   "outputs": [],
   "source": [
    "data['body'] = data['body'].apply(lambda words: ' '.join(word.lower() for word in words.split() if word not in stop))"
   ]
  },
  {
   "cell_type": "code",
   "execution_count": 88,
   "id": "a375492e",
   "metadata": {},
   "outputs": [
    {
     "data": {
      "text/html": [
       "<div>\n",
       "<style scoped>\n",
       "    .dataframe tbody tr th:only-of-type {\n",
       "        vertical-align: middle;\n",
       "    }\n",
       "\n",
       "    .dataframe tbody tr th {\n",
       "        vertical-align: top;\n",
       "    }\n",
       "\n",
       "    .dataframe thead th {\n",
       "        text-align: right;\n",
       "    }\n",
       "</style>\n",
       "<table border=\"1\" class=\"dataframe\">\n",
       "  <thead>\n",
       "    <tr style=\"text-align: right;\">\n",
       "      <th></th>\n",
       "      <th>date</th>\n",
       "      <th>rating</th>\n",
       "      <th>body</th>\n",
       "    </tr>\n",
       "  </thead>\n",
       "  <tbody>\n",
       "    <tr>\n",
       "      <th>0</th>\n",
       "      <td>8th January 2023</td>\n",
       "      <td>5.0</td>\n",
       "      <td>great thing british airway economy section ups...</td>\n",
       "    </tr>\n",
       "    <tr>\n",
       "      <th>1</th>\n",
       "      <td>6th January 2023</td>\n",
       "      <td>1.0</td>\n",
       "      <td>staff friendly plane cold shivering gave light...</td>\n",
       "    </tr>\n",
       "    <tr>\n",
       "      <th>2</th>\n",
       "      <td>2nd January 2023</td>\n",
       "      <td>1.0</td>\n",
       "      <td>probably worst business class experience ive e...</td>\n",
       "    </tr>\n",
       "    <tr>\n",
       "      <th>3</th>\n",
       "      <td>2nd January 2023</td>\n",
       "      <td>2.0</td>\n",
       "      <td>definitely recommended especially business cla...</td>\n",
       "    </tr>\n",
       "    <tr>\n",
       "      <th>4</th>\n",
       "      <td>2nd January 2023</td>\n",
       "      <td>8.0</td>\n",
       "      <td>shuttle service across uk still surprisingly g...</td>\n",
       "    </tr>\n",
       "  </tbody>\n",
       "</table>\n",
       "</div>"
      ],
      "text/plain": [
       "               date  rating                                               body\n",
       "0  8th January 2023     5.0  great thing british airway economy section ups...\n",
       "1  6th January 2023     1.0  staff friendly plane cold shivering gave light...\n",
       "2  2nd January 2023     1.0  probably worst business class experience ive e...\n",
       "3  2nd January 2023     2.0  definitely recommended especially business cla...\n",
       "4  2nd January 2023     8.0  shuttle service across uk still surprisingly g..."
      ]
     },
     "execution_count": 88,
     "metadata": {},
     "output_type": "execute_result"
    }
   ],
   "source": [
    "data.head()"
   ]
  },
  {
   "cell_type": "code",
   "execution_count": 89,
   "id": "babb0c64",
   "metadata": {},
   "outputs": [
    {
     "data": {
      "text/plain": [
       "'great thing british airway economy section upstairs get allows small stowage cupboard window seat despite old looked tired inside broken side stowage seat reclined uncontrollably slow react ife food supposed christmas dinner wafer thin bit dry turkey cooked sprout cubed potato poor taste quality mousse desert great though slight issue snack meal ordered child option marked regular meal arrived well exactly asked crew member told difference sticker box staff ok couple decent mostly ok overall seems tad cheap day great sit upstairs enjoyment ended seemed bit dull like average airline'"
      ]
     },
     "execution_count": 89,
     "metadata": {},
     "output_type": "execute_result"
    }
   ],
   "source": [
    "data.body[0]"
   ]
  },
  {
   "cell_type": "markdown",
   "id": "2b8f302f",
   "metadata": {},
   "source": [
    "Now that the 'body' column is cleaned and ready for EDA, we have to do some feature engineering and more data cleaning on the 'date' and 'rating' column. I will change the 'date' type format to datetime and create a 'review' column that indicates if the 'rating' provided by the customer was either good or bad."
   ]
  },
  {
   "cell_type": "code",
   "execution_count": 90,
   "id": "40fa3342",
   "metadata": {},
   "outputs": [
    {
     "data": {
      "text/html": [
       "<div>\n",
       "<style scoped>\n",
       "    .dataframe tbody tr th:only-of-type {\n",
       "        vertical-align: middle;\n",
       "    }\n",
       "\n",
       "    .dataframe tbody tr th {\n",
       "        vertical-align: top;\n",
       "    }\n",
       "\n",
       "    .dataframe thead th {\n",
       "        text-align: right;\n",
       "    }\n",
       "</style>\n",
       "<table border=\"1\" class=\"dataframe\">\n",
       "  <thead>\n",
       "    <tr style=\"text-align: right;\">\n",
       "      <th></th>\n",
       "      <th>date</th>\n",
       "      <th>rating</th>\n",
       "      <th>body</th>\n",
       "    </tr>\n",
       "  </thead>\n",
       "  <tbody>\n",
       "    <tr>\n",
       "      <th>0</th>\n",
       "      <td>2023-01-08</td>\n",
       "      <td>5.0</td>\n",
       "      <td>great thing british airway economy section ups...</td>\n",
       "    </tr>\n",
       "    <tr>\n",
       "      <th>1</th>\n",
       "      <td>2023-01-06</td>\n",
       "      <td>1.0</td>\n",
       "      <td>staff friendly plane cold shivering gave light...</td>\n",
       "    </tr>\n",
       "    <tr>\n",
       "      <th>2</th>\n",
       "      <td>2023-01-02</td>\n",
       "      <td>1.0</td>\n",
       "      <td>probably worst business class experience ive e...</td>\n",
       "    </tr>\n",
       "    <tr>\n",
       "      <th>3</th>\n",
       "      <td>2023-01-02</td>\n",
       "      <td>2.0</td>\n",
       "      <td>definitely recommended especially business cla...</td>\n",
       "    </tr>\n",
       "    <tr>\n",
       "      <th>4</th>\n",
       "      <td>2023-01-02</td>\n",
       "      <td>8.0</td>\n",
       "      <td>shuttle service across uk still surprisingly g...</td>\n",
       "    </tr>\n",
       "  </tbody>\n",
       "</table>\n",
       "</div>"
      ],
      "text/plain": [
       "        date  rating                                               body\n",
       "0 2023-01-08     5.0  great thing british airway economy section ups...\n",
       "1 2023-01-06     1.0  staff friendly plane cold shivering gave light...\n",
       "2 2023-01-02     1.0  probably worst business class experience ive e...\n",
       "3 2023-01-02     2.0  definitely recommended especially business cla...\n",
       "4 2023-01-02     8.0  shuttle service across uk still surprisingly g..."
      ]
     },
     "execution_count": 90,
     "metadata": {},
     "output_type": "execute_result"
    }
   ],
   "source": [
    "data['date'] = pd.to_datetime(data['date'])\n",
    "data.head()"
   ]
  },
  {
   "cell_type": "code",
   "execution_count": 91,
   "id": "3b4cf41f",
   "metadata": {},
   "outputs": [
    {
     "data": {
      "text/html": [
       "<div>\n",
       "<style scoped>\n",
       "    .dataframe tbody tr th:only-of-type {\n",
       "        vertical-align: middle;\n",
       "    }\n",
       "\n",
       "    .dataframe tbody tr th {\n",
       "        vertical-align: top;\n",
       "    }\n",
       "\n",
       "    .dataframe thead th {\n",
       "        text-align: right;\n",
       "    }\n",
       "</style>\n",
       "<table border=\"1\" class=\"dataframe\">\n",
       "  <thead>\n",
       "    <tr style=\"text-align: right;\">\n",
       "      <th></th>\n",
       "      <th>date</th>\n",
       "      <th>rating</th>\n",
       "      <th>body</th>\n",
       "      <th>review</th>\n",
       "    </tr>\n",
       "  </thead>\n",
       "  <tbody>\n",
       "    <tr>\n",
       "      <th>0</th>\n",
       "      <td>2023-01-08</td>\n",
       "      <td>5.0</td>\n",
       "      <td>great thing british airway economy section ups...</td>\n",
       "      <td>Bad</td>\n",
       "    </tr>\n",
       "    <tr>\n",
       "      <th>1</th>\n",
       "      <td>2023-01-06</td>\n",
       "      <td>1.0</td>\n",
       "      <td>staff friendly plane cold shivering gave light...</td>\n",
       "      <td>Bad</td>\n",
       "    </tr>\n",
       "    <tr>\n",
       "      <th>2</th>\n",
       "      <td>2023-01-02</td>\n",
       "      <td>1.0</td>\n",
       "      <td>probably worst business class experience ive e...</td>\n",
       "      <td>Bad</td>\n",
       "    </tr>\n",
       "    <tr>\n",
       "      <th>3</th>\n",
       "      <td>2023-01-02</td>\n",
       "      <td>2.0</td>\n",
       "      <td>definitely recommended especially business cla...</td>\n",
       "      <td>Bad</td>\n",
       "    </tr>\n",
       "    <tr>\n",
       "      <th>4</th>\n",
       "      <td>2023-01-02</td>\n",
       "      <td>8.0</td>\n",
       "      <td>shuttle service across uk still surprisingly g...</td>\n",
       "      <td>Good</td>\n",
       "    </tr>\n",
       "  </tbody>\n",
       "</table>\n",
       "</div>"
      ],
      "text/plain": [
       "        date  rating                                               body review\n",
       "0 2023-01-08     5.0  great thing british airway economy section ups...    Bad\n",
       "1 2023-01-06     1.0  staff friendly plane cold shivering gave light...    Bad\n",
       "2 2023-01-02     1.0  probably worst business class experience ive e...    Bad\n",
       "3 2023-01-02     2.0  definitely recommended especially business cla...    Bad\n",
       "4 2023-01-02     8.0  shuttle service across uk still surprisingly g...   Good"
      ]
     },
     "execution_count": 91,
     "metadata": {},
     "output_type": "execute_result"
    }
   ],
   "source": [
    "data['review'] = np.where(((data.rating == 8.0)|(data.rating == 9.0)|(data.rating == 10.0)), \"Good\", \"Bad\")\n",
    "data.head()"
   ]
  },
  {
   "cell_type": "markdown",
   "id": "d8c56302",
   "metadata": {},
   "source": [
    "Now the data is ready for exploratory data analysis. I will save it into a new csv file before jumping to the next portion of the project."
   ]
  },
  {
   "cell_type": "code",
   "execution_count": 93,
   "id": "3c67df63",
   "metadata": {},
   "outputs": [],
   "source": [
    "data.to_csv(\"/Users/afifmazhar/Desktop/Data Science/Data Science Projects/British_Airways_Data_Science/data/BA_reviews_clean.csv\")"
   ]
  }
 ],
 "metadata": {
  "kernelspec": {
   "display_name": "Python 3 (ipykernel)",
   "language": "python",
   "name": "python3"
  },
  "language_info": {
   "codemirror_mode": {
    "name": "ipython",
    "version": 3
   },
   "file_extension": ".py",
   "mimetype": "text/x-python",
   "name": "python",
   "nbconvert_exporter": "python",
   "pygments_lexer": "ipython3",
   "version": "3.10.2"
  }
 },
 "nbformat": 4,
 "nbformat_minor": 5
}
