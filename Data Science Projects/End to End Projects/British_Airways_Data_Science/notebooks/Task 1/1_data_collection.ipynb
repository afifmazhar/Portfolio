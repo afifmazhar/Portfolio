{
 "cells": [
  {
   "cell_type": "markdown",
   "id": "8ce3b880",
   "metadata": {},
   "source": [
    "# British Airways Data Science Problem\n",
    "\n",
    "## Web Scraping"
   ]
  },
  {
   "cell_type": "markdown",
   "id": "d3c4531e",
   "metadata": {},
   "source": [
    "This notebook details the data extraction/collection portion of the project. I used the BeautifulSoup to web scrape data from the website \"https://www.airlinequality.com/airline-reviews/british-airways\" and toss it into a csv file.\n",
    "\n",
    "Here are the necessary packages for this portion of the project."
   ]
  },
  {
   "cell_type": "code",
   "execution_count": 2,
   "id": "634ac6a8",
   "metadata": {},
   "outputs": [],
   "source": [
    "import requests\n",
    "from bs4 import BeautifulSoup\n",
    "import pandas as pd"
   ]
  },
  {
   "cell_type": "markdown",
   "id": "f8275914",
   "metadata": {},
   "source": [
    "I wanted to scrape as much data as possible from the website so I decided to scrape 35 pages of the website. This includes the date of the review, the rating of the review, and the body text of the review. "
   ]
  },
  {
   "cell_type": "code",
   "execution_count": 8,
   "id": "62b7c28a",
   "metadata": {},
   "outputs": [
    {
     "name": "stdout",
     "output_type": "stream",
     "text": [
      "Scraping page 1\n",
      "   ---> 100 total reviews\n",
      "Scraping page 2\n",
      "   ---> 200 total reviews\n"
     ]
    }
   ],
   "source": [
    "base_url = \"https://www.airlinequality.com/airline-reviews/british-airways\"\n",
    "pages = 2\n",
    "page_size = 100\n",
    "\n",
    "reviews = []\n",
    "\n",
    "# for i in range(1, pages + 1):\n",
    "for i in range(1, pages + 1):\n",
    "\n",
    "    print(f\"Scraping page {i}\")\n",
    "\n",
    "    # Create URL to collect links from paginated data\n",
    "    url = f\"{base_url}/page/{i}/?sortby=post_date%3ADesc&pagesize={page_size}\"\n",
    "\n",
    "    # Collect HTML data from this page\n",
    "    response = requests.get(url)\n",
    "\n",
    "    # Parse content\n",
    "    content = response.content\n",
    "    parsed_content = BeautifulSoup(content, 'html.parser')\n",
    "    for item in parsed_content.find_all(\"article\", {\"itemprop\": \"review\"}):\n",
    "        try:\n",
    "            review = {\n",
    "            'date': item.find('time', {'itemprop': 'datePublished'}).text.strip(),\n",
    "            'rating':  float(item.find('span', {'itemprop': 'ratingValue'}).text.strip()),\n",
    "            'traveler_type': item.find('td', {'class': 'review-value'}, {'class': 'review-rating-header type_of_traveller'}).text.replace('Type of Traveller', '').strip(),\n",
    "            'seat_type': item.find('td', {'class': 'review-rating-header cabin_flown'}, '/tr').text.replace(\"Seat Type\", '').strip(),\n",
    "            'body': item.find('div', {'class': 'text_content'}).text.strip(),\n",
    "            }\n",
    "            reviews.append(review)\n",
    "            ##reviews.append(para.get_text())\n",
    "        \n",
    "        except:\n",
    "            pass\n",
    "    \n",
    "    print(f\"   ---> {len(reviews)} total reviews\")"
   ]
  },
  {
   "cell_type": "markdown",
   "id": "033ec49b",
   "metadata": {},
   "source": [
    "All of the data should have parsed and fit into the \"reviews\" list that was created. Let's toss it into a pandas DataFrame and see if it worked properly."
   ]
  },
  {
   "cell_type": "code",
   "execution_count": 9,
   "id": "44b8affb",
   "metadata": {},
   "outputs": [
    {
     "data": {
      "text/html": [
       "<div>\n",
       "<style scoped>\n",
       "    .dataframe tbody tr th:only-of-type {\n",
       "        vertical-align: middle;\n",
       "    }\n",
       "\n",
       "    .dataframe tbody tr th {\n",
       "        vertical-align: top;\n",
       "    }\n",
       "\n",
       "    .dataframe thead th {\n",
       "        text-align: right;\n",
       "    }\n",
       "</style>\n",
       "<table border=\"1\" class=\"dataframe\">\n",
       "  <thead>\n",
       "    <tr style=\"text-align: right;\">\n",
       "      <th></th>\n",
       "      <th>date</th>\n",
       "      <th>rating</th>\n",
       "      <th>traveler_type</th>\n",
       "      <th>seat_type</th>\n",
       "      <th>body</th>\n",
       "    </tr>\n",
       "  </thead>\n",
       "  <tbody>\n",
       "    <tr>\n",
       "      <th>0</th>\n",
       "      <td>9th January 2023</td>\n",
       "      <td>4.0</td>\n",
       "      <td>Boeing 777-200</td>\n",
       "      <td></td>\n",
       "      <td>✅ Trip Verified |  Flew ATL to LHR 8th Jan 202...</td>\n",
       "    </tr>\n",
       "    <tr>\n",
       "      <th>1</th>\n",
       "      <td>8th January 2023</td>\n",
       "      <td>5.0</td>\n",
       "      <td>A380</td>\n",
       "      <td></td>\n",
       "      <td>Not Verified |  Great thing about British Airw...</td>\n",
       "    </tr>\n",
       "    <tr>\n",
       "      <th>2</th>\n",
       "      <td>6th January 2023</td>\n",
       "      <td>1.0</td>\n",
       "      <td>Family Leisure</td>\n",
       "      <td></td>\n",
       "      <td>Not Verified | The staff are friendly. The pla...</td>\n",
       "    </tr>\n",
       "    <tr>\n",
       "      <th>3</th>\n",
       "      <td>2nd January 2023</td>\n",
       "      <td>1.0</td>\n",
       "      <td>A320, A380</td>\n",
       "      <td></td>\n",
       "      <td>✅ Trip Verified | Probably the worst business ...</td>\n",
       "    </tr>\n",
       "    <tr>\n",
       "      <th>4</th>\n",
       "      <td>2nd January 2023</td>\n",
       "      <td>2.0</td>\n",
       "      <td>Business</td>\n",
       "      <td></td>\n",
       "      <td>✅ Trip Verified | Definitely not recommended, ...</td>\n",
       "    </tr>\n",
       "    <tr>\n",
       "      <th>...</th>\n",
       "      <td>...</td>\n",
       "      <td>...</td>\n",
       "      <td>...</td>\n",
       "      <td>...</td>\n",
       "      <td>...</td>\n",
       "    </tr>\n",
       "    <tr>\n",
       "      <th>195</th>\n",
       "      <td>28th February 2022</td>\n",
       "      <td>9.0</td>\n",
       "      <td>A350</td>\n",
       "      <td></td>\n",
       "      <td>✅ Trip Verified |  Outstanding! From the warm,...</td>\n",
       "    </tr>\n",
       "    <tr>\n",
       "      <th>196</th>\n",
       "      <td>26th February 2022</td>\n",
       "      <td>5.0</td>\n",
       "      <td>A320</td>\n",
       "      <td></td>\n",
       "      <td>✅ Trip Verified |  British Airways has scrappe...</td>\n",
       "    </tr>\n",
       "    <tr>\n",
       "      <th>197</th>\n",
       "      <td>21st February 2022</td>\n",
       "      <td>1.0</td>\n",
       "      <td>A322</td>\n",
       "      <td></td>\n",
       "      <td>✅ Trip Verified |  For once more BA got it all...</td>\n",
       "    </tr>\n",
       "    <tr>\n",
       "      <th>198</th>\n",
       "      <td>20th February 2022</td>\n",
       "      <td>1.0</td>\n",
       "      <td>Solo Leisure</td>\n",
       "      <td></td>\n",
       "      <td>Not Verified |  Another episode of unmitigated...</td>\n",
       "    </tr>\n",
       "    <tr>\n",
       "      <th>199</th>\n",
       "      <td>19th February 2022</td>\n",
       "      <td>10.0</td>\n",
       "      <td>Boeing 787-9</td>\n",
       "      <td></td>\n",
       "      <td>✅ Trip Verified |  Check in at IAD was quick a...</td>\n",
       "    </tr>\n",
       "  </tbody>\n",
       "</table>\n",
       "<p>200 rows × 5 columns</p>\n",
       "</div>"
      ],
      "text/plain": [
       "                   date  rating   traveler_type seat_type  \\\n",
       "0      9th January 2023     4.0  Boeing 777-200             \n",
       "1      8th January 2023     5.0            A380             \n",
       "2      6th January 2023     1.0  Family Leisure             \n",
       "3      2nd January 2023     1.0      A320, A380             \n",
       "4      2nd January 2023     2.0        Business             \n",
       "..                  ...     ...             ...       ...   \n",
       "195  28th February 2022     9.0            A350             \n",
       "196  26th February 2022     5.0            A320             \n",
       "197  21st February 2022     1.0            A322             \n",
       "198  20th February 2022     1.0    Solo Leisure             \n",
       "199  19th February 2022    10.0    Boeing 787-9             \n",
       "\n",
       "                                                  body  \n",
       "0    ✅ Trip Verified |  Flew ATL to LHR 8th Jan 202...  \n",
       "1    Not Verified |  Great thing about British Airw...  \n",
       "2    Not Verified | The staff are friendly. The pla...  \n",
       "3    ✅ Trip Verified | Probably the worst business ...  \n",
       "4    ✅ Trip Verified | Definitely not recommended, ...  \n",
       "..                                                 ...  \n",
       "195  ✅ Trip Verified |  Outstanding! From the warm,...  \n",
       "196  ✅ Trip Verified |  British Airways has scrappe...  \n",
       "197  ✅ Trip Verified |  For once more BA got it all...  \n",
       "198  Not Verified |  Another episode of unmitigated...  \n",
       "199  ✅ Trip Verified |  Check in at IAD was quick a...  \n",
       "\n",
       "[200 rows x 5 columns]"
      ]
     },
     "execution_count": 9,
     "metadata": {},
     "output_type": "execute_result"
    }
   ],
   "source": [
    "df = pd.DataFrame(reviews)\n",
    "df"
   ]
  },
  {
   "cell_type": "markdown",
   "id": "c2ee072c",
   "metadata": {},
   "source": [
    "Final step is to place all the data into a csv file for the next portion of the project."
   ]
  },
  {
   "cell_type": "code",
   "execution_count": 44,
   "id": "a9e90c8f",
   "metadata": {},
   "outputs": [],
   "source": [
    "df.to_csv(\"/Users/afifmazhar/Desktop/Data Science/Data Science Projects/British_Airways_Data_Science/data/BA_reviews.csv\")"
   ]
  }
 ],
 "metadata": {
  "kernelspec": {
   "display_name": "Python 3 (ipykernel)",
   "language": "python",
   "name": "python3"
  },
  "language_info": {
   "codemirror_mode": {
    "name": "ipython",
    "version": 3
   },
   "file_extension": ".py",
   "mimetype": "text/x-python",
   "name": "python",
   "nbconvert_exporter": "python",
   "pygments_lexer": "ipython3",
   "version": "3.10.2"
  }
 },
 "nbformat": 4,
 "nbformat_minor": 5
}
