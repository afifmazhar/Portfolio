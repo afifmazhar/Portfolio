{
 "cells": [
  {
   "cell_type": "code",
   "execution_count": 57,
   "id": "062f0680",
   "metadata": {},
   "outputs": [],
   "source": [
    "import pandas as pd\n",
    "import glob\n",
    "from pathlib import Path\n",
    "import os"
   ]
  },
  {
   "cell_type": "code",
   "execution_count": 58,
   "id": "c42793ba",
   "metadata": {},
   "outputs": [],
   "source": [
    "# initialize path\n",
    "path = r\"C:\\Users\\12148\\OneDrive\\Desktop\\Marijuana Event Study\\Data\\States\"\n",
    "\n",
    "# function that returns full path of folders\n",
    "def list_full_paths(path):\n",
    "    return [os.path.join(path, file) for file in os.listdir(path)]\n",
    "\n",
    "folders = list_full_paths(path)"
   ]
  },
  {
   "cell_type": "code",
   "execution_count": 59,
   "id": "eec6e30f",
   "metadata": {},
   "outputs": [],
   "source": [
    "for i in range(len(folders)):\n",
    "    \n",
    "    # initialize list of files in folder\n",
    "    csv_files = glob.glob(folders[i] + \"\\\\*.csv\")\n",
    "    \n",
    "    # initialize main dataframe\n",
    "    df = pd.read_csv(csv_files[0])\n",
    "\n",
    "    # for loop that goes through the files\n",
    "    for file in range(1, len(csv_files)):\n",
    "    \n",
    "        # merging the files together\n",
    "        second_df = pd.read_csv(csv_files[file])\n",
    "        df = pd.merge(df, second_df, on = \"DATE\", how = \"left\")\n",
    "    \n",
    "        # repositioning the columns\n",
    "        df = df.reindex(sorted(df.columns), axis=1)\n",
    "        df = df[['DATE'] + [x for x in df.columns if x != 'DATE']]\n",
    "        \n",
    "    #for loop that iterates over columns and renames them\n",
    "    for column in df.columns:\n",
    "    \n",
    "        if \"POP\" in column:\n",
    "            state_string = column[:2]\n",
    "            df.rename(columns = {column: \"population\"}, inplace = True)\n",
    "            df['state_abbrev'] = state_string # creates the state abbreviation column needed for merging\n",
    "        \n",
    "        elif \"GSP\" in column:\n",
    "            df.rename(columns = {column: \"gdp\"}, inplace = True)\n",
    "    \n",
    "        elif \"UR\" in column:\n",
    "            df.rename(columns = {column: \"unemployment_rate\"}, inplace = True)  \n",
    "    \n",
    "        elif \"BR\" in column:\n",
    "            df.rename(columns = {column: \"snap_recipients\"}, inplace = True)\n",
    "    \n",
    "        elif \"MINW\" in column:\n",
    "            df.rename(columns = {column: \"minimum_wage\"}, inplace = True)\n",
    "    \n",
    "        elif \"A156\" in column:\n",
    "            df.rename(columns = {column: \"poverty\"}, inplace = True) \n",
    "    \n",
    "        elif \"GCT\" in column:\n",
    "            df.rename(columns = {column: \"bachelor\"}, inplace = True)\n",
    "                \n",
    "        elif \"MEH\" in column:\n",
    "            df.rename(columns = {column: \"household_income\"}, inplace = True)\n",
    "    \n",
    "    # remove month and day from date column \n",
    "    df.to_csv(\"C:\\\\Users\\\\12148\\\\OneDrive\\\\Desktop\\\\Marijuana Event Study\\\\Data\\\\Master_States\\\\\" + state_string + \"_final.csv\")"
   ]
  },
  {
   "cell_type": "code",
   "execution_count": 60,
   "id": "d6804d32",
   "metadata": {},
   "outputs": [],
   "source": [
    "# append the data together\n",
    "\n",
    "# create empty dataframe\n",
    "master_df = pd.DataFrame()\n",
    "\n",
    "# for loop that concatenates the dataframes together\n",
    "for file in os.listdir(r\"C:\\Users\\12148\\OneDrive\\Desktop\\Marijuana Event Study\\Data\\Master_States\"):\n",
    "    if file.endswith(\".csv\"):\n",
    "        master_df = pd.concat([master_df , pd.read_csv(os.path.join(r\"C:\\Users\\12148\\OneDrive\\Desktop\\Marijuana Event Study\\Data\\Master_States\", file))], axis=0 )\n",
    "\n",
    "# reset index, change date column to year and push to csv\n",
    "master_df[\"DATE\"] = master_df[\"DATE\"].str[:4]\n",
    "master_df.rename(columns={\"DATE\": \"Year\"})\n",
    "master_df.reset_index(drop=True,inplace=True)\n",
    "master_df.to_csv(r\"C:\\Users\\12148\\OneDrive\\Desktop\\Marijuana Event Study\\Data\\Master_States\\master_dataset.csv\")"
   ]
  },
  {
   "cell_type": "code",
   "execution_count": null,
   "id": "cdf1bbb8",
   "metadata": {},
   "outputs": [],
   "source": []
  }
 ],
 "metadata": {
  "kernelspec": {
   "display_name": "Python 3 (ipykernel)",
   "language": "python",
   "name": "python3"
  },
  "language_info": {
   "codemirror_mode": {
    "name": "ipython",
    "version": 3
   },
   "file_extension": ".py",
   "mimetype": "text/x-python",
   "name": "python",
   "nbconvert_exporter": "python",
   "pygments_lexer": "ipython3",
   "version": "3.9.12"
  }
 },
 "nbformat": 4,
 "nbformat_minor": 5
}
